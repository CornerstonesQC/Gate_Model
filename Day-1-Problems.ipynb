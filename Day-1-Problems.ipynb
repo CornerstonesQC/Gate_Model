{
 "cells": [
  {
   "cell_type": "markdown",
   "metadata": {
    "tags": []
   },
   "source": [
    "# Bloch vectors\n",
    "------\n",
    "\n",
    "[author]: # (Written by David Wakeham, July 2020. Please email me at <david.a.wakeham@gmail.com> in case of errors.)\n",
    "\n",
    "### Introductory ramble\n",
    "\n",
    "The *Bloch sphere* is a beautiful way to represent the state of a single qubit. Consider a state in the computational basis\n",
    "\n",
    "$$\n",
    "|\\psi\\rangle = \\alpha |0\\rangle + \\beta |1\\rangle.\n",
    "$$\n",
    "\n",
    "Naively, this has four real degrees of freedom, since $\\alpha, \\beta \\in \\mathbb{C}$. But the normalization $|\\alpha|^2+|\\beta|^2 = 1$ restricts the components to lie on the three-dimensional unit sphere. We can parameterize $|\\alpha|$ and $|\\beta|$ by\n",
    "\n",
    "$$\n",
    "|\\alpha| = \\cos \\left(\\frac{\\theta}{2}\\right), \\quad |\\beta| = \\sin \\left(\\frac{\\theta}{2}\\right),\n",
    "$$\n",
    "\n",
    "where $\\theta \\in [0,\\pi]$. This ensures that both sine and cosine are positive. Using this angle, we can write\n",
    "\n",
    "$$\n",
    "\\alpha = e^{i\\varphi_\\alpha}\\cos \\left(\\frac{\\theta}{2}\\right), \\quad \\beta = e^{i\\varphi_\\beta}\\sin \\left(\\frac{\\theta}{2}\\right),\n",
    "$$\n",
    "\n",
    "for some phases $\\varphi_\\alpha, \\varphi_\\beta$. But we have another trick left up our sleeve. It turns out that, for a single qubit, the *overall phase* is unobservable, since we measure probabilities, and probabilities square it away! We can always use this ambiguity to rotate $\\alpha$ until it is real and positive, so $\\alpha = |\\alpha|$. (You will discuss this ambiguity in lectures soon.) This leaves an arbitrary phase $\\phi \\in [0, 2\\pi)$ in $\\beta$, and we can write our original state $|\\psi\\rangle$ as\n",
    "\n",
    "$$\n",
    "|\\psi(\\theta,\\phi)\\rangle = \\cos \\left(\\frac{\\theta}{2}\\right)|0\\rangle + e^{i\\phi}\\sin \\left(\\frac{\\theta}{2}\\right) |1\\rangle. \\tag{1}\\label{eq:bloch}\n",
    "$$\n",
    "\n",
    "These two angles give coordinates on the *Bloch sphere*, with $\\theta \\in [0, \\pi]$ the azimuthal angle and $\\phi \\in [0,2\\pi)$ the polar angle, as below:\n",
    "\n",
    "<div>\n",
    "<img src=\"images/bloch.png\" width=\"300\" align=\"center\">\n",
    "</div>\n",
    "\n",
    "**Important note.** Please try to finish Exercises 1–3. The remaining exercises are bonus problems!"
   ]
  },
  {
   "cell_type": "markdown",
   "metadata": {},
   "source": [
    "\n",
    "> ***Exercise 1.*** Check that the Bloch sphere is indeed a sphere by confirming that the real degrees of freedom satisfy the defining equation\n",
    ">\n",
    "> $$ \\alpha^2 + (\\mbox{Re} \\beta)^2 + (\\mbox{Im} \\beta)^2 = 1. $$\n",
    ">\n",
    "> (There are a few subtleties here, but we don't need to worry about them. See the solutions for further discussion.)"
   ]
  },
  {
   "cell_type": "code",
   "execution_count": null,
   "metadata": {},
   "outputs": [],
   "source": [
    "# Your answers here\n",
    "#\n",
    "#"
   ]
  },
  {
   "cell_type": "markdown",
   "metadata": {},
   "source": [
    "For this breakout room, you will need [Quirk](https://algassert.com/quirk), an online quantum circuit simulator. It has the nifty ability to display Bloch vectors for a qubit as you shuffle it around the circuit! Below is the section of the Quirk interface we will focus on:"
   ]
  },
  {
   "cell_type": "markdown",
   "metadata": {},
   "source": [
    "<div>\n",
    "<img src=\"images/quirk1.png\" align=\"center\">\n",
    "</div>\n",
    "\n",
    "We can drop gates onto the circuit to manipulate the state, and use either the Bloch spheres at the end, or add our own Bloch spheres, to see what's going on. For instance, I can add a $Y$ gate on the first qubit:"
   ]
  },
  {
   "cell_type": "markdown",
   "metadata": {},
   "source": [
    "<div>\n",
    "<img src=\"images/quirk2.png\" align=\"center\">\n",
    "</div>\n",
    "\n",
    "I can then check to see what it does by adding a Bloch sphere:"
   ]
  },
  {
   "cell_type": "markdown",
   "metadata": {},
   "source": [
    "<div>\n",
    "<img src=\"images/quirk3.png\" align=\"center\">\n",
    "</div>\n",
    "\n",
    "Yay! Now it's your turn."
   ]
  },
  {
   "cell_type": "markdown",
   "metadata": {},
   "source": [
    "### Gates and rotations\n"
   ]
  },
  {
   "cell_type": "markdown",
   "metadata": {},
   "source": [
    "Let's orient ourselves by finding some familiar landmarks.\n",
    "\n",
    "> ***Exercise 2.*** (a) Find the points on the Bloch sphere $(\\theta, \\phi)$ corresponding to $|0\\rangle$, $|1\\rangle$, and $|\\pm\\rangle = \\tfrac{1}{\\sqrt{2}}(|0\\rangle \\pm |1\\rangle)$.\n",
    ">\n",
    "> (b) Confirm your answers using Quirk. *Hint.* Use $X|0\\rangle = |1\\rangle$ and $|+\\rangle = H|0\\rangle, |-\\rangle = H|1\\rangle$ to prepare the appropriate states."
   ]
  },
  {
   "cell_type": "code",
   "execution_count": null,
   "metadata": {},
   "outputs": [],
   "source": [
    "# Your answers here\n",
    "# |0> = (θ, ϕ),\n",
    "# |1> = ...\n",
    "#"
   ]
  },
  {
   "cell_type": "markdown",
   "metadata": {},
   "source": [
    "So, we now have some intuition for the representation of qubits on the Bloch sphere. What about gates?\n",
    "\n",
    "> ***Exercise 3.*** (a) What does $Z$ do to the states $|0\\rangle, |1\\rangle$ and $|\\pm\\rangle$? Use any method you like. *Hint*. You may be confused about how to represent $Z|1\\rangle$ on the Bloch sphere, but recall the point about overall phase.\n",
    ">\n",
    "> (b) The results of (a) could arise from a *rotation* of the Bloch sphere. What would this rotation be? Specify the *axis* around which the rotation occurs, and the *angle* it rotates through.\n",
    ">\n",
    "> (c) Repeat the same exercise for $X$, computing the action on $|0\\rangle, |1\\rangle$ and $|\\pm\\rangle$ and determining a rotation that could give rise to it."
   ]
  },
  {
   "cell_type": "code",
   "execution_count": null,
   "metadata": {},
   "outputs": [],
   "source": [
    "# Your answers here\n",
    "#\n",
    "#"
   ]
  },
  {
   "cell_type": "markdown",
   "metadata": {},
   "source": [
    "Let's check our guesses for the previous exercise.\n",
    "\n",
    "> ***Bonus 1.*** (a) Confirm the hypothesis of Exercise 3(b) by computing $Z|\\psi(\\theta,\\phi)\\rangle$.\n",
    ">\n",
    "> (b) Show that the expectation of $Z$ in the state $|\\psi(\\theta,\\phi)\\rangle$ is $\\langle Z\\rangle = \\cos\\theta$, the projection of the Bloch vector onto the $z$-axis.\n",
    ">\n",
    "> (c) Check that for $|\\psi(\\theta,\\phi)\\rangle$, the remaining Pauli operators have expectations\n",
    ">\n",
    "> \\begin{align}\n",
    "\\langle X \\rangle & = \\sin\\theta \\cos\\phi \\\\\n",
    "\\langle Y \\rangle & = \\sin\\theta \\sin\\phi.\n",
    "\\end{align}\n",
    ">\n",
    "> Thus, the expectations of $X, Y, Z$ provide the Cartesian coordinates $(x, y, z)$ of a Bloch vector, projecting onto the corresponding axes."
   ]
  },
  {
   "cell_type": "code",
   "execution_count": null,
   "metadata": {},
   "outputs": [],
   "source": [
    "# Your answers here\n",
    "#\n",
    "#"
   ]
  },
  {
   "cell_type": "markdown",
   "metadata": {},
   "source": [
    "The operator $Z$ acts as a rigid, i.e. length-preserving, rotation on the Bloch sphere. In fact, it is possible to prove that *any* single-qubit unitary $U$ acts as a rotation on the Bloch sphere, swivelling the sphere by some angle $\\vartheta$ around an axis described by a unit vector $\\hat{\\mathbf{n}}$. (There can also be an overall phase. This is irrelevant for single qubits, but important in multi-qubit circuts). The fact that gates are rigid rotations gives some geometric insight into single-qubit gates.\n",
    "\n",
    "> ***Bonus 2.*** (a) Show that any unitary (other than multiples of $I$) has two eigenvectors, which are antipodal (on opposite sides) on the Bloch sphere.\n",
    ">\n",
    "> (b) Deduce that points on the Bloch sphere are antipodal if and only if they are orthogonal. *Hint.* What do you know about the eigenvectors of unitary matrices?\n",
    ">\n",
    "> (c) If a unitary applied $k$ times is proportional to the identity, $U^k \\propto I$, argue that $k\\vartheta$ is a multiple of $2\\pi$. Need every unitary $U$ have some $k$ for which $U^k = I$?"
   ]
  },
  {
   "cell_type": "code",
   "execution_count": null,
   "metadata": {},
   "outputs": [],
   "source": [
    "# Your answers here\n",
    "#\n",
    "#"
   ]
  },
  {
   "cell_type": "markdown",
   "metadata": {},
   "source": [
    "We are not proving things to idly amuse ourselves. We can turn them into calculational tools!\n",
    "\n",
    "> ***Bonus 3.*** (a) Find $\\vartheta$ and $\\hat{\\mathbf{n}}$ for the Pauli $X$ operator.\n",
    ">\n",
    "> (b) Let's do a more interesting gate, the Hadamard $H$. Recall (or show) that $H^2 = I$. What does this tell us about the rotation angle $\\vartheta$?\n",
    ">\n",
    "> (c) Show that $\\tfrac{1}{\\sqrt{2}}(|0\\rangle + |+\\rangle)$ is an eigenvector of $H$. Use Exercise 4(b) to argue that $\\tfrac{1}{\\sqrt{2}}(|1\\rangle - |-\\rangle)$ must be the remaining eigenvector.\n",
    ">\n",
    "> (d) Describe the expectation $\\langle H\\rangle$ geometrically, and generalize to any nontrivial unitary satisfying $U^2 = I$."
   ]
  },
  {
   "cell_type": "code",
   "execution_count": null,
   "metadata": {},
   "outputs": [],
   "source": [
    "# Your answers here\n",
    "#\n",
    "#"
   ]
  },
  {
   "cell_type": "markdown",
   "metadata": {},
   "source": [
    "$\\newcommand{\\bra}[1]{\\left<#1\\right|}$\n",
    "$\\newcommand{\\ket}[1]{\\left|#1\\right>}$\n",
    "# Introduction to Circuits in Pennylane\n",
    "------"
   ]
  },
  {
   "cell_type": "markdown",
   "metadata": {},
   "source": [
    "## Setup\n",
    "Xanadu's PennyLane will be our language of choice for this course. Let us start ensuring that everything is installed correctly and you are able to execute PennyLane code. The below code block should print the version of Pennylane to be used."
   ]
  },
  {
   "cell_type": "code",
   "execution_count": null,
   "metadata": {},
   "outputs": [],
   "source": [
    "import pennylane as qml\n",
    "from pennylane import numpy as np\n",
    "from qiskit.visualization import plot_bloch_multivector\n",
    "\n",
    "import sys\n",
    "\n",
    "print(\"Using Pennylane version {0}.\".format(qml.__version__))"
   ]
  },
  {
   "cell_type": "markdown",
   "metadata": {},
   "source": [
    "## Quantum Circuits in Pennylane\n",
    "\n",
    "In this we will introduce quantum computation and PennyLane. If you’ve never evaluated a quantum circuit before, this is a great place to start. Even if you are familiar with quantum computation, this challenge will introduce you to the syntax used for PennyLane circuits."
   ]
  },
  {
   "cell_type": "markdown",
   "metadata": {},
   "source": [
    "### Define a device\n",
    "\n",
    "A device object in Pennylane provides the possibility of evaluating a quantum function - either with a simulator or an actual quantum hardware as backend. The code below instantiates a device using the `default.qubit` backend, which is a built-in simulator that does not require external dependencies and runs on your very own machine!"
   ]
  },
  {
   "cell_type": "code",
   "execution_count": null,
   "metadata": {},
   "outputs": [],
   "source": [
    "dev_1qubit = qml.device('default.qubit', wires=1, shots=1000)"
   ]
  },
  {
   "cell_type": "markdown",
   "metadata": {},
   "source": [
    "Further parameters to specify when setting up a device are:\n",
    "\n",
    "-  **Number of wires**: Pennylane's generic term for qubits. Gates and measurements always act on these wires. Each qubit are always initiated in the state $\\ket{0}$ of Pauli $Z=+1$ when using the `default.qubit` simualtor.\n",
    "- **Number of shots**: computations on real QPUs are stochastic processes, following probability distributions. The computations need to be repeated **shots** times to acquire a result with statistical significance. Simulators are able to extract information of quantum states as if performing analytical calculations with $\\bra{\\,\\,}$ and $\\ket{\\,\\,}$, hence this parameter does not matter here.\n",
    "- See [Pennylane Docs](https://pennylane.readthedocs.io/en/stable/code/api/pennylane.device.html) for further details."
   ]
  },
  {
   "cell_type": "markdown",
   "metadata": {},
   "source": [
    "### Defining a Quantum Circuit - The QNode decorator"
   ]
  },
  {
   "cell_type": "markdown",
   "metadata": {},
   "source": [
    "The device is then used to construct so called `QNodes`, which are representations of quantum nodes in a computational graph. In other words, it contains a function representing our quantum circuit and the device we defined. Pennylane uses python decorators (`@decorator`) to wrap a quantum function."
   ]
  },
  {
   "cell_type": "code",
   "execution_count": null,
   "metadata": {},
   "outputs": [],
   "source": [
    "# Create a quantum circuit and qnode\n",
    "@qml.qnode(dev_1qubit)\n",
    "def circuit():\n",
    "    #measure the probability of finding our \n",
    "    #single qubit in the computational basis states 0,1.\n",
    "    return qml.probs(0)"
   ]
  },
  {
   "cell_type": "markdown",
   "metadata": {},
   "source": [
    "Here, our quantum function is `circuit()` and does not depend on any parameter. The return value is an array of probabilities $|\\langle i | \\psi \\rangle |^2$ for measuring the computational basis state $|i\\rangle$ given the current state $|\\psi \\rangle$.\n",
    "\n",
    "If we execute this basic circuit, we find a probability of $1$ for our single qubit to be in the computational state $0$, which is what it was initiated to."
   ]
  },
  {
   "cell_type": "code",
   "execution_count": null,
   "metadata": {
    "scrolled": true
   },
   "outputs": [],
   "source": [
    "print(\"Output array [p(|0>),p(|1>)]: {0}\".format(circuit()))"
   ]
  },
  {
   "cell_type": "markdown",
   "metadata": {},
   "source": [
    "## Exercise 1: Single qubit operations"
   ]
  },
  {
   "cell_type": "markdown",
   "metadata": {},
   "source": [
    "Our above circuit is not particularly useful, so let's see how we can use a basic quantum gate within this circuit to perform a rotation on our qubit.\n",
    "\n",
    "\n",
    "### 1.1 Ground state probability of rotated qubit\n",
    "Your task is to calculate the probability that a rotated qubit is in the ground state.\n",
    "\n",
    "• Rotate the qubit around the x-axis by angle $\\phi=\\frac{\\pi}{4}$\n",
    "$$|\\phi>=R_x(\\phi)|0>=e^{-i\\phi\\sigma_x/2}|0>$$\n",
    "\n",
    "• Measure the probability of the qubit being in the ground state |0>\n",
    "$$p=|<\\phi|0>|^2$$\n",
    "\n",
    "The function below defines a circuit and executes it. Its input parameter is the angle $\\phi$. \n",
    "Extend the circuit to apply the PauliX gate on our single qubit and measure the probability to find it in the computational basis states. Implementation details are described in the [Pennylane Docs](https://pennylane.readthedocs.io/en/stable/code/api/pennylane.RX.html).\n",
    "\n",
    "**Visualising your circuit**: The `xrotation` function below introduces a line of code\n",
    "\n",
    "```\n",
    "print(circuit.draw())\n",
    "```\n",
    "\n",
    "which draws a simple visualisation of the circuit."
   ]
  },
  {
   "cell_type": "code",
   "execution_count": null,
   "metadata": {},
   "outputs": [],
   "source": [
    "dev_1qubit.reset()\n",
    "\n",
    "def xrotation(angle):\n",
    "    prob = 0.0\n",
    "    \n",
    "    # Create a quantum circuit and qnode\n",
    "    @qml.qnode(dev_1qubit)\n",
    "    def circuit(par):\n",
    "        #TODO edit this function to take the input parameter \n",
    "        #and apply the PauliX-gate to qubit 1\n",
    "        \n",
    "        # Your solution here\n",
    "\n",
    "        return qml.probs(0)\n",
    "    \n",
    "    prob = circuit(angle)\n",
    "    print(circuit.draw())\n",
    "    return prob"
   ]
  },
  {
   "cell_type": "code",
   "execution_count": null,
   "metadata": {},
   "outputs": [],
   "source": [
    "# Visualize the state of the qubit before applying the rotation\n",
    "plot_bloch_multivector(dev_1qubit._state)"
   ]
  },
  {
   "cell_type": "code",
   "execution_count": null,
   "metadata": {},
   "outputs": [],
   "source": [
    "# Execute this after adding the RX gate\n",
    "angle=np.pi/4\n",
    "probs=xrotation(angle)\n",
    "plot_bloch_multivector(dev_1qubit._state)\n",
    "print(\"Resulting probability array: {0}\".format(probs))\n",
    "print(\"p(|0>)= {0:.3f}\".format(probs[0]))"
   ]
  },
  {
   "cell_type": "code",
   "execution_count": null,
   "metadata": {},
   "outputs": [],
   "source": [
    "# Visualize the state of the qubit after applying the rotation\n",
    "plot_bloch_multivector(dev_1qubit._state)"
   ]
  },
  {
   "cell_type": "markdown",
   "metadata": {},
   "source": [
    "If your result shows a probability $p$ to find our qubit in state $|0>$ with $p=|<\\phi|0>|^2$ after application of the PauliX gate: ***Congratulations!*** You have succesfully programmed a quantum circuit in Pennylane."
   ]
  },
  {
   "cell_type": "markdown",
   "metadata": {},
   "source": [
    "### 1.2 Math\n",
    "\n",
    "Calculate the probability $p=|<\\phi|0>|^2$ by hand with linear algebra.\n",
    "\n",
    "Remember that the computational basis states can be represented as vectors\n",
    "$$\n",
    "\\ket{0}= \\begin{pmatrix}\n",
    "1 \\\\\n",
    "0 \n",
    "\\end{pmatrix}\n",
    ";\\ \\ket{1}= \\begin{pmatrix}\n",
    "0 \\\\\n",
    "1 \n",
    "\\end{pmatrix}\n",
    "$$\n",
    "\n",
    "The Pauli X gate can be represented as a matrix:\n",
    "$$\n",
    "X=\\sigma_X=\\begin{pmatrix}\n",
    "0 & 1\\\\\n",
    "1 & 0\n",
    "\\end{pmatrix}\n",
    "$$\n",
    "\n",
    "The matrix representation of the rotation operators is then:\n",
    "$$\n",
    "e^{-i\\phi\\sigma/2}=[\\cos(\\phi/2)I-i\\sin(\\phi/2)\\sigma]\n",
    "$$\n"
   ]
  },
  {
   "cell_type": "markdown",
   "metadata": {},
   "source": [
    "### 1.3 Expectation value \n",
    "\n",
    "\n",
    "Calculate the expectation value of a rotated qubit with respect to the Pauli operator X.\n",
    "\n",
    "• Rotate the qubit around the y-axis by angle $\\theta=\\frac{\\pi}{4}$\n",
    "$$|\\theta>=R_y(\\theta)|0>=e^{-i\\theta\\sigma_y/2}|0>$$\n",
    "\n",
    "• Measure the expectation value of the state wrt to Pauli-X\n",
    "$$|<\\theta|\\sigma_x|\\theta>|$$"
   ]
  },
  {
   "cell_type": "code",
   "execution_count": null,
   "metadata": {},
   "outputs": [],
   "source": [
    "dev_1qubit.reset()\n",
    "\n",
    "def yrotation(angle):\n",
    "    prob = 0.0\n",
    "    \n",
    "    # Create a quantum circuit and qnode\n",
    "    @qml.qnode(dev_1qubit)\n",
    "    def circuit(par):\n",
    "        # a single-wire parameterized gate\n",
    "        # rotation around Y-axis on single wire\n",
    "        #TODO edit this function to take the input parameter \n",
    "        #and apply the PauliY-gate to the qubit, and then measure the expectation value for the PauliX operator\n",
    "        #qml.RY(...)\n",
    "        #qml.PauliX(...)\n",
    "        #qml.expval(...)\n",
    "        \n",
    "        return\n",
    "    prob = circuit(angle)\n",
    "    print(circuit.draw())\n",
    "    return prob"
   ]
  },
  {
   "cell_type": "code",
   "execution_count": null,
   "metadata": {},
   "outputs": [],
   "source": [
    "# Visualize the state of the qubit before applying the rotation\n",
    "plot_bloch_multivector(dev_1qubit._state)"
   ]
  },
  {
   "cell_type": "code",
   "execution_count": null,
   "metadata": {},
   "outputs": [],
   "source": [
    "#Execute this after adjusting the circuit\n",
    "angle=np.pi/4\n",
    "probs=yrotation(angle)\n",
    "print(\"Expectation value: {0:.3f}\".format(probs))"
   ]
  },
  {
   "cell_type": "code",
   "execution_count": null,
   "metadata": {},
   "outputs": [],
   "source": [
    "# Visualize the state of the qubit before applying the rotation\n",
    "plot_bloch_multivector(dev_1qubit._state)"
   ]
  },
  {
   "cell_type": "markdown",
   "metadata": {},
   "source": [
    "The resulting expectation value is $|<\\theta|\\sigma_x|\\theta>|=\\dots$"
   ]
  },
  {
   "cell_type": "markdown",
   "metadata": {},
   "source": [
    "### 1.4 Calculate the expectation value by hand too.\n",
    "The Pauli Y gate is defined as\n",
    "$$\n",
    "Y=\\sigma_Y=\\begin{pmatrix}\n",
    "0 & -i\\\\\n",
    "i & 0\n",
    "\\end{pmatrix}\n",
    "$$\n",
    "Calculate the expectation value $|<\\theta|\\sigma_x|\\theta>|$ analytically."
   ]
  },
  {
   "cell_type": "markdown",
   "metadata": {},
   "source": [
    "## Exercise 2: Basis Transformations"
   ]
  },
  {
   "cell_type": "markdown",
   "metadata": {},
   "source": [
    "Qbits, the operational units of quantum computers are vectors in 2-dimensional Hilbert spaces. Hilbert spaces are spanned by basis vectors; multiple bases exist for a given Hilbert space. For quantum computation it is important to learn how to operate and change bases.\n",
    "\n",
    "\n",
    "The choice of basis is determined according to the 3 Pauli matrices $X$, $Y$, $Z$. Conventionally we will call the `computational basis` that which makes $Z$ diagonal for every qubit: \n",
    "\n",
    "$$\n",
    "Z=\\begin{pmatrix}\n",
    "1 & 0\\\\\n",
    "0 & -1\n",
    "\\end{pmatrix}\n",
    ";\\ \\ket{0}= \\begin{pmatrix}\n",
    "1 \\\\\n",
    "0 \n",
    "\\end{pmatrix}\n",
    ";\\ \\ket{1}= \\begin{pmatrix}\n",
    "0 \\\\\n",
    "1 \n",
    "\\end{pmatrix}\n",
    "$$\n",
    "\n",
    "This is just the basis we have been using for our calculations above.\n",
    "\n",
    "The PauliZ matrix is also known as a *phase flip* operator (as it adds a phase $\\pi$ to $\\ket{1}$ with respect to $\\ket{0}$). In this basis, the Pauli $X$ operator is a *bit flip* operator and reads \n",
    "\n",
    "$$ \n",
    "X=\\begin{pmatrix}\n",
    "0 & 1\\\\\n",
    "1 & 0\n",
    "\\end{pmatrix} \n",
    "$$\n",
    "\n",
    "Naturally, $X$ can be diagonalized to a basis $\\ket{\\pm}$ which, in terms of the computational basis, reads\n",
    "\n",
    "$$\n",
    "\\ket{\\pm}=\\frac{\\ket{0} \\pm \\ket{1}}{\\sqrt{2}}\n",
    "$$"
   ]
  },
  {
   "cell_type": "markdown",
   "metadata": {
    "jp-MarkdownHeadingCollapsed": true,
    "tags": []
   },
   "source": [
    "\n",
    "### 2.1 The Hadamard Transform\n",
    "The Hadamard gate transforms the computational basis to the $\\ket{\\pm}$ basis.\n",
    "\n",
    "Fill in the entries of the matrix which has the effect:\n",
    "$H\\ket{0}=\\ket{+}$; $H\\ket{1}=\\ket{-}$\n",
    "$$\n",
    "H=\\frac{1}{\\sqrt{2}} \\begin{pmatrix}\n",
    "\\square & \\square\\\\\n",
    "\\square & \\square\n",
    "\\end{pmatrix} \n",
    "$$"
   ]
  },
  {
   "cell_type": "markdown",
   "metadata": {},
   "source": [
    "### 2.2 Basis rotations in Pennylane\n",
    "Create a single-qubit circuit on Pennylane that measures the probability of $\\ket{+}$ being on state  $\\ket{0}$."
   ]
  },
  {
   "cell_type": "code",
   "execution_count": null,
   "metadata": {},
   "outputs": [],
   "source": [
    "dev_1qubit.reset()\n",
    "def basistrafo():\n",
    "    prob = 0.0\n",
    "    \n",
    "    # Create a quantum circuit and qnode\n",
    "    @qml.qnode(dev_1qubit)\n",
    "    def circuit():\n",
    "        # transform the initial state |0> to |+> and measure\n",
    "        # the probability to find this state as |0>\n",
    "        \n",
    "        # Your solution here\n",
    "        \n",
    "        return\n",
    "\n",
    "    prob = circuit()\n",
    "    print(circuit.draw())\n",
    "    return prob"
   ]
  },
  {
   "cell_type": "code",
   "execution_count": null,
   "metadata": {},
   "outputs": [],
   "source": [
    "# Visualize the state of the qubit before applying the basis rotation\n",
    "plot_bloch_multivector(dev_1qubit._state)"
   ]
  },
  {
   "cell_type": "code",
   "execution_count": null,
   "metadata": {},
   "outputs": [],
   "source": [
    "probs=basistrafo()\n",
    "print(\"p(<+|0>)= {0:.3f}\".format(probs[0]))"
   ]
  },
  {
   "cell_type": "code",
   "execution_count": null,
   "metadata": {},
   "outputs": [],
   "source": [
    "# Visualize the state of the qubit before applying the basis rotation\n",
    "plot_bloch_multivector(dev_1qubit._state)"
   ]
  },
  {
   "cell_type": "markdown",
   "metadata": {},
   "source": [
    "### 2.3 Arbitrarily Rotated States\n",
    "\n",
    "Suppose we have a state $\\ket{\\psi}=\\frac{1}{\\sqrt{2}}\\ket{0}+\\frac{e^{i\\phi}}{\\sqrt{2}}\\ket{1}$\n",
    "\n",
    "a)\n",
    "Write the state in the form:\n",
    "\n",
    "$$\n",
    "\\ket{\\Psi(\\alpha,\\theta,\\phi)}=e^{i\\alpha}\\left(\\cos(\\theta/2)\\ket{0}+e^{i\\phi}\\sin(\\theta/2)\\ket{1}\\right)$$\n",
    "i.e. determine $\\alpha$ and $\\theta$.\n",
    "\n",
    "b) What is the probability of finding $\\psi$ in state $\\ket{0}$?\n",
    "\n",
    "\n",
    "c) Show that the probability of measuring the state $\\ket{+}$ ($|\\bra{+}\\ket{\\psi}|^2$) is\n",
    "$\\cos^2(\\phi/2))$.\n",
    "\n",
    "d) What circuit would give you this result?\n",
    "\n",
    "e) Does the value of $\\alpha$ have any effect on the results of measurements?\n"
   ]
  },
  {
   "cell_type": "markdown",
   "metadata": {},
   "source": [
    "## Exercise 3: Tensor products"
   ]
  },
  {
   "cell_type": "markdown",
   "metadata": {},
   "source": [
    "So far, we have worked with single-qubit states and operations. In order to understand and represent multi-qubit states, it is important to understand tensor products. The following exercises will help you gain familiarity with tensor products of single-qubit states and operators."
   ]
  },
  {
   "cell_type": "markdown",
   "metadata": {},
   "source": [
    "(a) Let $\\rho = X \\otimes Z$ where $X$ and $Z$ are the PauliX and PauliZ matrices respectively. Write out $\\rho$ in matrix representation.\n",
    "\n",
    "(b) Let $\\ket{\\psi} = \\ket{-} = \\frac{1}{\\sqrt{2}}(\\ket{0} - \\ket{1})$. Write out $\\ket{\\psi}^{\\otimes 2} = \\ket{\\psi} \\otimes \\ket{\\psi}$ in both Dirac notation and matrix representation\n",
    "\n",
    "(c) Write out $\\rho \\ket{\\psi}^{\\otimes 2}$ in both Dirac notation and matrix representation"
   ]
  },
  {
   "cell_type": "markdown",
   "metadata": {},
   "source": [
    "## Exercise 4: Entangled States"
   ]
  },
  {
   "cell_type": "markdown",
   "metadata": {},
   "source": [
    "The CNOT gate acts on 2-qubits by flipping a target qubit if the control qubit is in the state $\\ket{1}$ of the computational basis. This gate is the native 2-qubit gate in many quantum hardware implementations.\n",
    "\n",
    "### 4.1 CNOT Gate\n",
    "In the basis ${\\ket{00},\\ket{01},\\ket{10},\\ket{11}}$, complete below the matrix form of the CNOT \n",
    "\n",
    "$$\n",
    "CNOT=\\begin{pmatrix}\n",
    "1 & 0 & 0 & 0\\\\\n",
    "0 & 1 & 0 & 0\\\\\n",
    "0 & 0 & \\square & \\square \\\\\n",
    "0 & 0 & \\square & \\square\n",
    "\\end{pmatrix} = \\begin{pmatrix}\n",
    "1_{2\\times2} & 0_{2\\times2}\\\\\n",
    "0_{2\\times2} & X\n",
    "\\end{pmatrix} \n",
    "$$\n",
    "\n",
    "CNOT gates can be used to entangle the qubits. The state of either qubit becomes conditional on the state of the other such that the state cannot be factored into a product of single qubit states.\n",
    "\n",
    "### 4.2 Bell State\n",
    "Some interesting, maximally entangled 2-qubit states are **Bell states** \n",
    "\n",
    "$$ \\begin{aligned} \\ket{\\Phi_+} &= \\frac{1}{\\sqrt{2}} \\left( \\ket{00} + \\ket{11} \\right)\\\\ \\ket{\\Phi_-}&= \\frac{1}{\\sqrt{2}} \\left( \\ket{00} - \\ket{11} \\right)\\\\ \\ket{\\Psi_+} &= \\frac{1}{\\sqrt{2}} \\left( \\ket{01} + \\ket{10}\\right)\\\\ \\ket{\\Psi_-} &= \\frac{1}{\\sqrt{2}} \\left( \\ket{01} - \\ket{10}\\right) \\,. \\end{aligned} $$\n",
    "\n",
    "If the system is in state $\\ket{\\Phi^+}$ or $\\ket{\\Phi^-}$ then if one qubit is measured as $\\ket{0}$ then we immediately know the other qubit is also in state $\\ket{0}$ (and similarly with $\\ket{1}$). If the system is in state $\\ket{\\Psi^\\pm}$ then if one qubit is measured we immediately know the other qubit is in the opposite state.\n",
    "\n",
    "Show that a Hadamard gate followed by a CNOT applied to $\\ket{00}$ produces the Bell state $\\ket{\\Phi^+}$.\n",
    "\n",
    "### 4.3 Expectation Value of a Multi-qubit state\n",
    "Measure the expectation value of an entangled state wrt a tensor-product observable.\n",
    "\n",
    "• Instantiate a new device with 2 qubits.\n",
    "\n",
    "• Create the **Bell-state**:\n",
    "$$|\\Phi^+>=\\frac{1}{\\sqrt{2}}(|00>+|11>)$$\n",
    "\n",
    "• Rotate the first qubit around the y-axis by an angle $\\theta=\\frac{\\pi}{4}$\n",
    "\n",
    "$$|\\theta>=R^0_y(\\theta)|\\Phi^+>=e^{-i\\theta(\\sigma_y\\otimes I)/2}|\\Phi^+>$$\n",
    "\n",
    "• Measure the expectation value of the state wrt to the tensor product observable Pauli-Z(0)@Pauli_Z(1)\n",
    "$$|<\\theta|\\sigma_z^0\\otimes\\sigma_z^1|\\theta>|^2$$"
   ]
  },
  {
   "cell_type": "code",
   "execution_count": null,
   "metadata": {},
   "outputs": [],
   "source": [
    "#dev_2qubit = qml.device(...)"
   ]
  },
  {
   "cell_type": "code",
   "execution_count": null,
   "metadata": {},
   "outputs": [],
   "source": [
    "def entangledstate(angle):\n",
    "    expectation_value = 0.0\n",
    "\n",
    "    # Create a quantum circuit and qnode\n",
    "    @qml.qnode(dev_2qubit)\n",
    "    def circuit(par):\n",
    "        #1.) create |+> from first qubit |0>\n",
    "        #2.) connect first and second qubit with a CNOT gate\n",
    "        #3.) apply a y-rotation gate on the first qubit\n",
    "        #4.) measure the expectation value. of the PauliZ-observable Pauli-Z(0)@Pauli_Z(1)\n",
    "        \n",
    "        # Your solution here\n",
    "        \n",
    "        return"
   ]
  },
  {
   "cell_type": "code",
   "execution_count": null,
   "metadata": {},
   "outputs": [],
   "source": [
    "#Execute this after adjusting the circuit\n",
    "angle=np.pi/4\n",
    "expval=entangledstate(angle)\n",
    "print(\"Expectation value: {0:.3f}\".format(expval))"
   ]
  }
 ],
 "metadata": {
  "kernelspec": {
   "display_name": "qhack21",
   "language": "python",
   "name": "qhack21"
  },
  "language_info": {
   "codemirror_mode": {
    "name": "ipython",
    "version": 3
   },
   "file_extension": ".py",
   "mimetype": "text/x-python",
   "name": "python",
   "nbconvert_exporter": "python",
   "pygments_lexer": "ipython3",
   "version": "3.9.5"
  }
 },
 "nbformat": 4,
 "nbformat_minor": 5
}
