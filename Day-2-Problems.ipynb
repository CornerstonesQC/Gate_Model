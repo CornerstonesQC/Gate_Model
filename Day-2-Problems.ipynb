{
 "cells": [
  {
   "cell_type": "markdown",
   "id": "2b1f7b5c-4f43-4055-a724-3d70e1514c1d",
   "metadata": {},
   "source": [
    "# Quantum Teleportation\n",
    "------\n",
    "\n",
    "Alice has a qubit in state $\n",
    "\\left|\\psi\\right>=\\alpha\\left|0\\right>+\\beta\\left|1\\right>$.\n",
    "\n",
    "She wants to send this quantum information to Bob.\n",
    "However the laws of quantum mechanics prevent making a copy of her qubit (the no-cloning theorem). Alice can transfer her state to Bob using two classical bits and an entangled pair. This is 'teleportation' because the original qubit is not physically transferred but afterwards Bob will have state $\\left|\\psi\\right>$ and Alice will not have it anymore.\n",
    "\n",
    "------\n",
    "\n",
    "### Overview\n",
    "\n",
    "One qubit of an entangled pair is given to Alice and one is given to Bob.\n",
    "\n",
    "Alice measures her two qubits in the Bell basis and sends the (classical) results to Bob.\n",
    "\n",
    "Using those classical bits, Bob will decide whether to apply particular gates to his qubit.\n",
    "\n",
    "Afterwards Bob will have the state $\\left|\\psi\\right>$.\n",
    "\n",
    "------"
   ]
  },
  {
   "cell_type": "markdown",
   "id": "b69ebc20-6d2a-4128-aed4-939473a6892c",
   "metadata": {},
   "source": [
    "First we import `pennylane` and initialize a quantum device."
   ]
  },
  {
   "cell_type": "code",
   "execution_count": 4,
   "id": "5d66cca7-ca2f-4f72-8d27-faa601cef945",
   "metadata": {},
   "outputs": [],
   "source": [
    "# imports\n",
    "import pennylane as qml\n",
    "from pennylane import numpy as np\n",
    "\n",
    "# first we set up device\n",
    "dev = qml.device(\"qiskit.aer\", wires=3, shots=1000)\n",
    "# we will use the qiskit simulator so we can make prettier circuit diagrams"
   ]
  },
  {
   "cell_type": "markdown",
   "id": "2b0c613d-b505-44cb-baf3-e3d4a568e310",
   "metadata": {},
   "source": [
    "The following function will be used to create the initial state $\\left|\\psi\\right>$."
   ]
  },
  {
   "cell_type": "code",
   "execution_count": null,
   "id": "9bf04ce7-dee1-46ae-a352-0058477218d2",
   "metadata": {},
   "outputs": [],
   "source": [
    "def initialize_psi(theta,phi,wire=0):\n",
    "    qml.Rot(0,theta,phi,wires=wire)"
   ]
  },
  {
   "cell_type": "markdown",
   "id": "21787c8a-374f-4498-9831-bf7373c0df3e",
   "metadata": {},
   "source": [
    "> ***Exercise 1.***\n",
    ">Create a Bell pair on qubits 1 and 2.\n",
    ">(i.e. the state $\\frac{1}{\\sqrt{2}}\\left|00\\right>+\\left|11\\right>$)\n",
    "> by completing the following function."
   ]
  },
  {
   "cell_type": "code",
   "execution_count": null,
   "id": "8ee5e370-8af0-423d-ba70-fdb6fd3a15d1",
   "metadata": {},
   "outputs": [],
   "source": [
    "def create_Bell_state():\n",
    "    # Your solution here"
   ]
  },
  {
   "cell_type": "markdown",
   "id": "1c77faba-701d-417f-893f-b9bba65199a7",
   "metadata": {},
   "source": [
    "Let's pretend qubit `1` is sent to Alice and qubit `2` is sent to Bob (on a physical quantum computer the bits cannot be sent anywhere).\n",
    "\n",
    "Therefore Alice can only manipulate qubits `0` and `1`. She will apply the following gates."
   ]
  },
  {
   "cell_type": "code",
   "execution_count": null,
   "id": "4d93d582-05d2-46a2-9324-687e7024e345",
   "metadata": {},
   "outputs": [],
   "source": [
    "def Alice_gates():\n",
    "    qml.CNOT(wires=[0,1])\n",
    "    qml.Hadamard(wires=0)"
   ]
  },
  {
   "cell_type": "markdown",
   "id": "ab4639f6-6a30-4757-b1ef-bc0957a4db6e",
   "metadata": {},
   "source": [
    "> ***Exercise 2.***\n",
    ">Show that, if Alice's qubits are measured after applying her gates, they will  in the Bell basis.\n",
    ">i.e. Show that the quantum \n",
    "circuit \n",
    "><div><img src=\"images/bell.jpg\" width=\"200\"></div> \n",
    "maps the four Bell states \n",
    ">$$\n",
    "\\begin{aligned}\n",
    "    \\left|\\Phi_+ \\right> &= \\frac{1}{\\sqrt{2}} \\left( \\left|00 \\right> + \\left|11 \\right> \\right)\\\\\n",
    "    \\left|\\Phi_- \\right> &= \\frac{1}{\\sqrt{2}} \\left( \\left|00 \\right> - \\left|11 \\right> \\right)\\\\\n",
    "    \\left|\\Psi_+ \\right> &= \\frac{1}{\\sqrt{2}} \\left( \\left|01 \\right> + \\left|10 \\right> \\right)\\\\\n",
    "    \\left|\\Psi_+ \\right> &= \\frac{1}{\\sqrt{2}} \\left( \\left|01 \\right> - \\left|10 \\right> \\right) \\,.\n",
    "\\end{aligned}\n",
    "$$\n",
    ">to the computational basis states: \n",
    "$\\left|00\\right>, \\left|01\\right>,\\left|10\\right>, \\left|11\\right>$ "
   ]
  },
  {
   "cell_type": "markdown",
   "id": "dd3c2588-dcdc-4094-a852-2650dd16df70",
   "metadata": {},
   "source": [
    "Teleportation can be achieved if Alice measures her qubits (`0` and `1`) and sends the results (classical bits) to Bob.\n",
    "<div><img src=\"images/bell_measure.jpg\" width=\"200\"></div> \n",
    "\n",
    "Bob will then manipulate his qubit (`2`) based on those results."
   ]
  },
  {
   "cell_type": "markdown",
   "id": "71926d30-5c51-4627-9c50-b6d89f2d0b62",
   "metadata": {},
   "source": [
    "Depending on the measurement outcomes, Bob needs to make some adjustments to qubit `2` as shown below. Here, $Z^{M_1}$ and $X^{M_2}$ means that the Pauli gates are only applied when $M_1=1$ and $M_2=1$, respectively. These single-qubit gates are sometimes referred to as *Pauli corrections*.\n",
    "\n",
    "This circuit constitutes are final teleportation algorithm:"
   ]
  },
  {
   "cell_type": "markdown",
   "id": "6b840392-9226-4ae2-9592-7837f11a105d",
   "metadata": {},
   "source": [
    "<div>\n",
    "<img src=\"images/tele_circuit.jpg\" width=\"700\">\n",
    "</div>\n",
    "\n",
    "Alternate version of circuit diagram (via `qiskit`, with an example):\n",
    "<div>\n",
    "<img src=\"images/qiskit_teleportation.png\" width=\"700\">\n",
    "</div>"
   ]
  },
  {
   "cell_type": "markdown",
   "id": "9d1e4588-0f19-4186-9008-3e3cc0db4b90",
   "metadata": {},
   "source": [
    "In `pennylane` and on current quantum hardware we are limited to performing all measurements at the end. So we cannot in practice manipulate qubit 2 after measuring 0 and 1.\n",
    "\n",
    "However we can still produce $\\left|\\psi\\right>$ on qubit 2\n",
    "due to the *deferred measurement principle* [1].\n",
    "This principle states that any measurement can be postponed until the end of the circuit, i.e. we can move all the measurements to the end, and we should see the same results.\n",
    "\n",
    "The measurement controlled Pauli gates can be converted to regular controlled gates.\n",
    "\n",
    "<div>\n",
    "<img src=\"images/defer_measurement.svg\" width=\"300\">\n",
    "</div>"
   ]
  },
  {
   "cell_type": "code",
   "execution_count": null,
   "id": "ac9ced95-cc93-4fcc-ae99-cbe9809c705c",
   "metadata": {},
   "outputs": [],
   "source": [
    "# instead of measuring at this point, we apply controlled gates\n",
    "def Bob_gates():\n",
    "    qml.CNOT(wires=[1,2])\n",
    "    qml.CZ(wires=[0,2])"
   ]
  },
  {
   "cell_type": "markdown",
   "id": "67b796ba-ac73-4e95-b5a9-b320d16c7528",
   "metadata": {},
   "source": [
    "We can show that we've acquired the correct state by applying the inverse of our state initialization on qubit 2 and show that it returns to state $\\left|0\\right>$.\n",
    "\n",
    "> ***Exercise 3.***\n",
    ">Complete the following code for the teleportation protocol. (Use the previously defined functions to apply the gates, then use `qml.adjoint` to apply the inverse of the inialization (i.e. the *disentangler*).\n",
    "\n",
    "The final circuit will look something like this (it's ok if there are more measurements drawn or the barriers are not included):\n",
    "\n",
    "<div>\n",
    "<img src=\"images/qiskit_teleportation_defer.png\" width=\"700\">\n",
    "</div>"
   ]
  },
  {
   "cell_type": "code",
   "execution_count": null,
   "id": "f85e3081-e580-47b2-8070-f8cbcb779873",
   "metadata": {},
   "outputs": [],
   "source": [
    "@qml.qnode(dev)\n",
    "def Teleportation(theta, phi):\n",
    "    # Your solution here\n",
    "\n",
    "    return qml.probs(2)"
   ]
  },
  {
   "cell_type": "markdown",
   "id": "99f6785c-5100-4280-81ef-bf016d6a89f1",
   "metadata": {},
   "source": [
    ">***Hint:*** `qml.adjoint(f)(params)` takes a gate or function `f` which applies gates and passes it the parameters `params`. Here `f` should be `initialize_psi`, but remember you need to apply the disentangler to qubit `2`."
   ]
  },
  {
   "cell_type": "code",
   "execution_count": null,
   "id": "328d090b-ff40-4e27-b420-079a10eb655e",
   "metadata": {},
   "outputs": [],
   "source": [
    "np.random.seed(0)\n",
    "theta = np.pi*np.random.uniform()\n",
    "phi = np.pi/2*np.random.uniform()"
   ]
  },
  {
   "cell_type": "code",
   "execution_count": null,
   "id": "32574b3a-9b21-4154-aa47-bd6ab7174f02",
   "metadata": {},
   "outputs": [],
   "source": [
    "theta, phi"
   ]
  },
  {
   "cell_type": "code",
   "execution_count": null,
   "id": "3b19cc81-3076-4904-9ebd-ae3f313c5087",
   "metadata": {},
   "outputs": [],
   "source": [
    "# should always be [1, 0] no matter what |psi> is\n",
    "print(Teleportation(theta,phi))"
   ]
  },
  {
   "cell_type": "code",
   "execution_count": null,
   "id": "d49c073e-1e37-4484-9e3d-e4a19f85f866",
   "metadata": {},
   "outputs": [],
   "source": [
    "dev._circuit.draw('mpl')"
   ]
  },
  {
   "cell_type": "markdown",
   "id": "22ac3dce-6a9c-4ee8-ad92-7741ea7d0ecd",
   "metadata": {},
   "source": [
    "------\n",
    "### Quantum Teleportation on the IBM Quantum Computer"
   ]
  },
  {
   "cell_type": "markdown",
   "id": "2400aef3-7810-4366-8ab4-f3dd9e529d94",
   "metadata": {},
   "source": [
    "In this section, we will run the teleportation circuit on the IBM Quantum Computer. During the pre-reading, you must have signed up for an [IBMQ account](https://quantum-computing.ibm.com/). On the [IBM Quantum Dashboard](https://quantum-computing.ibm.com/), you should be able to sign-in and access your API token here\n",
    "\n",
    "![image.png](images/qiskit_api.png)"
   ]
  },
  {
   "cell_type": "markdown",
   "id": "0c83c2a1-6ec5-4328-824f-9b3ee0c740ca",
   "metadata": {},
   "source": [
    "Simply use the API from the IBM Quantum Dashboard in the device initialization below :"
   ]
  },
  {
   "cell_type": "code",
   "execution_count": null,
   "id": "015e7ae2-dc84-409a-be61-50b74ae89813",
   "metadata": {},
   "outputs": [],
   "source": [
    "# Setup the device object to run on real quantum device\n",
    "# Note - This command can only be run once in a single kernel - if need to re-run, restart the kernel and re-run\n",
    "dev = qml.device('qiskit.ibmq', wires=3, backend='ibmqx2', shots=2000, ibmqx_token=\"YOUR_API_KEY_HERE\")"
   ]
  },
  {
   "cell_type": "code",
   "execution_count": null,
   "id": "b25d74a9-9ad2-4749-a32c-7d9c16cc4976",
   "metadata": {},
   "outputs": [],
   "source": [
    "@qml.qnode(dev)\n",
    "def Teleportation(theta, phi):\n",
    "    # Your solution here\n",
    "    \n",
    "    return qml.probs(2)"
   ]
  },
  {
   "cell_type": "code",
   "execution_count": null,
   "id": "17774b51-d34a-4fc1-afb2-104639a464be",
   "metadata": {},
   "outputs": [],
   "source": [
    "np.random.seed(0)\n",
    "theta = np.pi*np.random.uniform()\n",
    "phi = np.pi/2*np.random.uniform()"
   ]
  },
  {
   "cell_type": "code",
   "execution_count": null,
   "id": "54d60e3e-e0ba-4fe5-bd1e-fae50335fc1c",
   "metadata": {},
   "outputs": [],
   "source": [
    "theta, phi"
   ]
  },
  {
   "cell_type": "code",
   "execution_count": null,
   "id": "3a073142-619a-4934-83b9-76fa6dd19333",
   "metadata": {},
   "outputs": [],
   "source": [
    "# should always be [1, 0] no matter what |psi> is\n",
    "print(Teleportation(theta,phi))"
   ]
  },
  {
   "cell_type": "code",
   "execution_count": null,
   "id": "d6d98269-0b14-405b-97ef-0b7fadf53918",
   "metadata": {},
   "outputs": [],
   "source": [
    "dev._circuit.draw('mpl')"
   ]
  },
  {
   "cell_type": "markdown",
   "id": "ed52cecf-85fd-43c0-ae96-1a42caf3ecf6",
   "metadata": {},
   "source": [
    "### More Bonus Exercises: Pauli corrections by classical post-processing\n",
    "\n",
    "As was stated earlier, in the `pennylane` framework, measurement of the circuit has to be performed as the very last step *after* all gates have been applied! This means, it is not possible to implement the Pauli corrections that depend on the measurement outcomes of qubits `0` and `1`.\n",
    "\n",
    "Instead, we can apply the Pauli corrections *classically*. We measure all three qubits and then post-process each recorded measurement outcome according to the Pauli corrections."
   ]
  },
  {
   "cell_type": "markdown",
   "id": "21eee1b2-9a3b-4c0b-8886-0a23514a9760",
   "metadata": {},
   "source": [
    "Let's see how this works. Assume we are performing a measurement in the $z$-basis which means that we can differentiate between outcomes $\\left|0\\right>$ and $\\left|1\\right>$. The $X$ correction just before measurement swaps the roles of $\\left|0\\right>$ and $\\left|1\\right>$. Thus, instead of actually applying an $X$-gate, simply swapping the measured probabilities of getting $\\left|0\\right>$ and $\\left|1\\right>$ will do the same job! The $Z$ correction has no effect on the measurement statistics, since it simply adds a phase of $-1$ to $\\left|1\\right>$ which we can't measure anyways.\n",
    "\n",
    "> ***Bonus Exercise.*** How can we retroactively apply the $X$ and $Z$ correction when we measure in the $x$-basis, i.e. when we differentiate between outcomes $\\left|+\\right>$ and $\\left|-\\right>$?"
   ]
  },
  {
   "cell_type": "markdown",
   "id": "012e19b7-9191-4566-bf3f-f935fc6ecb1c",
   "metadata": {},
   "source": [
    "For an arbitrary single-qubit-state parameterized as $\\left|\\psi\\right> = \\cos \\frac{\\theta}{2}\\left|0\\right> + e^{i\\varphi} \\sin\\frac{\\theta}{2} \\left|1\\right>$ the expectation values of the Pauli operators are"
   ]
  },
  {
   "cell_type": "markdown",
   "id": "985fb03f-b60e-437a-a3d7-10d32621c53b",
   "metadata": {},
   "source": [
    "$$\n",
    "\\begin{aligned}\n",
    "\\langle X \\rangle &= \\cos \\varphi \\sin \\theta \\\\\n",
    "\\langle Y \\rangle &= \\sin \\varphi \\sin \\theta \\\\\n",
    "\\langle Z \\rangle &= \\cos \\theta \\,,\n",
    "\\end{aligned}\n",
    "$$\n",
    "\n",
    "i.e. the expectation value of the operators $X,Y,Z$ are the projection of the Bloch vector on the $x,y,z-$axis.\n",
    "\n",
    "So, if we measure $\\langle Z \\rangle$, we can compute $\\theta$. If we measure a second Pauli operator, we also find $\\varphi$. Voilà, we have identified our quantum state!"
   ]
  },
  {
   "cell_type": "markdown",
   "id": "d87375ab-39f5-4bfa-a44b-3480800c3e15",
   "metadata": {},
   "source": [
    "<div>\n",
    "<img src=\"images/bloch_sphere.png\" width=\"300\">\n",
    "</div>"
   ]
  },
  {
   "cell_type": "markdown",
   "id": "236978dd-bcb9-4dee-8e03-9969d9b00230",
   "metadata": {},
   "source": [
    "> ***Bonus Exercise.*** Write a python function ` findState(x_exp,z_exp)` that takes expectation values $\\langle X \\rangle$ and $\\langle Z \\rangle$ as inputs and returns $\\varphi$ and $\\theta$. (To keep thing simple, assume that $\\varphi \\in [0,\\pi)$ for our purposes.)"
   ]
  },
  {
   "cell_type": "code",
   "execution_count": null,
   "id": "6a6bf8c1-abb5-44fa-80b5-1796efb866f0",
   "metadata": {},
   "outputs": [],
   "source": [
    "def findState(x_exp,z_exp):\n",
    "    # Your solution here\n",
    "    \n",
    "    return phi,theta"
   ]
  },
  {
   "cell_type": "markdown",
   "id": "d7e3c0a0-c19e-4353-a03d-b7f0b3cceaae",
   "metadata": {},
   "source": [
    "Below is our implementation of the teleportation circuit that combines all code snippets that you have written so far. There are two circuits. `teleportMeasureX` initializes the input qubit `0` in the state $\\left|\\psi\\right> = \\cos \\frac{\\theta}{2}\\left|0\\right> + e^{i\\varphi} \\sin\\frac{\\theta}{2} \\left|1\\right>$, implements the teleportation, and measures qubit `2` in the $x$-basis while `teleportMeasureZ` measures the last qubit in the $z$-basis."
   ]
  },
  {
   "cell_type": "code",
   "execution_count": null,
   "id": "cfc773b4-e9bc-4535-9e6a-ae32d44dedf8",
   "metadata": {
    "tags": []
   },
   "outputs": [],
   "source": [
    "@qml.qnode(dev)\n",
    "def teleportMeasureX(phi,theta):\n",
    "    # prepare input state cos(θ/2)|0> + e^(iϕ) sin(θ/2)|1>\n",
    "    qml.Rot(0,theta,phi, wires=0)\n",
    "    \n",
    "    # build the actual circuit\n",
    "    create_Bell_state()\n",
    "    Alice_gates()    # rotate to the Bell basis\n",
    "    \n",
    "    # rotate the x-basis into the z basis ( |+> --> |0> and |-> --> |1> )\n",
    "    qml.Hadamard(wires=2)\n",
    "    \n",
    "    # return the measurement statistics\n",
    "    return qml.probs(wires=[0,1,2])\n",
    "\n",
    "@qml.qnode(dev)\n",
    "def teleportMeasureZ(phi,theta):\n",
    "    # prepare input state\n",
    "    qml.Rot(0,theta,phi, wires=0)\n",
    "    \n",
    "    # build the actual circuit\n",
    "    create_Bell_state()\n",
    "    Alice_gates()\n",
    "    \n",
    "    # return the measurement statistics\n",
    "    return qml.probs(wires=[0,1,2])"
   ]
  },
  {
   "cell_type": "markdown",
   "id": "d6952b75-8c4a-4f6c-9006-5db7822f96c5",
   "metadata": {},
   "source": [
    "To make things interesting, we randomly choose the parameters of the input state $\\left|\\psi\\right> = \\cos \\frac{\\theta}{2}\\left|0\\right> + e^{i\\varphi} \\sin\\frac{\\theta}{2} \\left|1\\right>$ as $\\varphi,\\theta \\in [0,\\pi)$."
   ]
  },
  {
   "cell_type": "code",
   "execution_count": null,
   "id": "87a56b9a-639e-40e4-979c-4a90436bf493",
   "metadata": {},
   "outputs": [],
   "source": [
    "theta = np.random.rand() * np.pi\n",
    "phi = np.random.rand() * np.pi"
   ]
  },
  {
   "cell_type": "markdown",
   "id": "7da21b9b-f37e-4607-8f18-4e6de0c93409",
   "metadata": {},
   "source": [
    "Now we perform the post-processing of the data to apply the Pauli corrections and compute the expectation values $\\langle X \\rangle$ (`x_exp`) and $\\langle Z \\rangle $ (`z_exp`). If you are pressured for time, you can simply run the code cell below and understand the steps in the code later.\n"
   ]
  },
  {
   "cell_type": "code",
   "execution_count": null,
   "id": "0e9e4e1f-3d23-414c-9a42-15c2c43b3ee7",
   "metadata": {
    "tags": []
   },
   "outputs": [],
   "source": [
    "binaries = ['000', '001', '010', '011', '100', '101', '110','111']\n",
    "\n",
    "x_probs = teleportMeasureX(phi, theta) # run the quantum circuit\n",
    "# the list x_probs will contain the measured probabilities, where the first entry corresponds\n",
    "# to |000>, the second to |001>, the third to |010>, ...\n",
    "\n",
    "x_exp = 0 # this variable will contain <X>, we initialize it with 0\n",
    "\n",
    "for i in np.arange(2**3): # loop through all possible outcomes\n",
    "    bits = binaries[i]\n",
    "    outcome = int(bits[2]) # get the state of the last qubit\n",
    "    eigenvalue = (-2*outcome + 1) # the eigenvalue is 1 if the qubit was measured to be 0. It is -1 if the qubit was measured 1\n",
    "    if bits[0]=='1':\n",
    "        eigenvalue = (-eigenvalue) # Apply the Pauli-Z correction, i.e. flip the eigenvalue if qubit 0 was measured 1\n",
    "        # The Pauli-X correction has no effect since we are measuring in the X-basis\n",
    "    x_exp += eigenvalue * x_probs[i] # compute the expectation value as <X> = \\sum_i probs_i * eigenvalue_i\n",
    "\n",
    "\n",
    "z_probs = teleportMeasureZ(phi, theta)\n",
    "z_exp = 0\n",
    "\n",
    "for i in np.arange(2**3): # loop through all possible outcomes\n",
    "    bits = binaries[i]\n",
    "    outcome = int(bits[2])\n",
    "    eigenvalue = (-2*outcome + 1)\n",
    "    if bits[1]=='1':\n",
    "        eigenvalue = (-eigenvalue) # Apply the Pauli-X correction, i.e. flip the eigenvalue if qubit 1 was measured 1\n",
    "        # The Pauli-Z correction has no effect since we are measuring in the Z-basis\n",
    "    z_exp += eigenvalue * z_probs[i]"
   ]
  },
  {
   "cell_type": "markdown",
   "id": "87172594-54d8-447c-a4e3-c4e099a05246",
   "metadata": {},
   "source": [
    "> ***Bonus Exercise.*** Scrap the above code cell and program your own data processing routine from scratch."
   ]
  },
  {
   "cell_type": "markdown",
   "id": "1da1f685-2b34-4926-96f1-5f09088bdf86",
   "metadata": {},
   "source": [
    "Finally, having computed $\\langle X\\rangle$ and $\\langle Z\\rangle$ we can use our function `findState` to compute the angles of our Bloch vector:"
   ]
  },
  {
   "cell_type": "code",
   "execution_count": null,
   "id": "7a5aaf9d-fb02-4a67-ad56-4df7b0b253a7",
   "metadata": {},
   "outputs": [],
   "source": [
    "phi_measured, theta_measured = findState(x_exp, z_exp)\n",
    "print('Measured angles: ϕ=', phi_measured, ', θ=', theta_measured)"
   ]
  },
  {
   "cell_type": "markdown",
   "id": "65ae1ff2-e0d4-4bec-ae6d-d89872c52e3e",
   "metadata": {},
   "source": [
    "Let's compare this to the actual parameters of the initial state. Hopefully they agree with our measurement!"
   ]
  },
  {
   "cell_type": "code",
   "execution_count": null,
   "id": "03e2bc0e-eb3f-4fad-ad21-c21ac0a07912",
   "metadata": {},
   "outputs": [],
   "source": [
    "print('Initial state: ϕ=', phi, ', θ=', theta)"
   ]
  },
  {
   "cell_type": "markdown",
   "id": "efd14b59-6d79-4c55-9020-056f226bb473",
   "metadata": {},
   "source": [
    "### References\n",
    "1. M. Nielsen and I. Chuang, Quantum Computation and Quantum Information (2000)\n",
    "2. `qiskit` [textbook](https://qiskit.org/textbook) "
   ]
  },
  {
   "cell_type": "markdown",
   "id": "3c503c09-f611-462a-bdda-60d3691a84c3",
   "metadata": {},
   "source": [
    "# GHZ states\n",
    "------\n",
    "[author]: # (Written by Giovanni Iannelli and Paolo Stornati, July 2021. Please email me us at <giovanni.iannelli@desy.de> or <paolo.stornati@desy.de> in case of errors.)"
   ]
  },
  {
   "cell_type": "code",
   "execution_count": 1,
   "id": "b17ca5f2-be87-4f65-9c3a-b688460baffc",
   "metadata": {},
   "outputs": [],
   "source": [
    "import pennylane as qml\n",
    "from pennylane import numpy as np"
   ]
  },
  {
   "cell_type": "markdown",
   "id": "20938b83-8cf9-484c-b3c1-8367f4680adf",
   "metadata": {},
   "source": [
    "In yesterdays's homework, we learned how to construct two-qubit entangled states (_Bell states_) with PennyLane by applying a Hadamard gate followed by a CNOT. This worksheet will build upon that knowledge and extend the ideas of entanglement to three qubits.\n",
    " "
   ]
  },
  {
   "cell_type": "markdown",
   "id": "048836cf-4d43-41ef-b6c1-7676b800fc79",
   "metadata": {},
   "source": [
    "While the canonical example of an entanglement is a 2-qubit system, this is just the tip of the iceberg. Systems with more than 2 qubits can contain varying degrees of entanglement. For example, in a 3-qubit system, it may be the case that  \n",
    "- None of the qubits are entangled and the qubits are in a product state (e.g $|000\\rangle$, $|010\\rangle$ ...)\n",
    " - a pair of two are entangled and the third is separate, e.g. $\\frac{1}{\\sqrt{2}} \\left( |00\\rangle + |11 \\rangle \\right) |0\\rangle$ \n",
    " - all three are fully entangled. \n",
    " \n",
    "The GHZ state is an example of the third case, and is in a sense the logical extension of the Bell state. A 3-qubit GHZ state is defined as\n",
    "$$\n",
    "|\\hbox{GHZ} \\rangle_3 = \\frac{1}{\\sqrt{2}} \\left( |000\\rangle + |111 \\rangle \\right) \n",
    "$$\n",
    "GHZ states are named after the researchers who first studied them: [Greenberger, Horne, and Zeilinger](https://arxiv.org/abs/0712.0921)."
   ]
  },
  {
   "cell_type": "markdown",
   "id": "9cf22046-5573-49e4-b915-97b656a33b5c",
   "metadata": {},
   "source": [
    "Let's make one!"
   ]
  },
  {
   "cell_type": "markdown",
   "id": "e12308fb-e3ec-4c11-8cc3-3cf257c20755",
   "metadata": {},
   "source": [
    "> **Exercise 1.1:** Starting from $|00\\rangle$, we built the Bell state in the following way:\n",
    "$$C_{NOT}^{0,1}H^0|00\\rangle = C_{NOT}^{0,1}\\frac{1}{\\sqrt{2}}(|0\\rangle + |1\\rangle)|0\\rangle =C_{NOT}^{0,1}\\frac{1}{\\sqrt{2}}(|00\\rangle + |10\\rangle)=\\frac{1}{\\sqrt{2}}(|00\\rangle+|11\\rangle).$$\n",
    "How is then possible to build a GHZ state starting from $|000\\rangle$? (Hint: Start with the same two gate operations used for the Bell state, i.e. start applying $C_{NOT}^{0,1}H^0$ to $|000\\rangle$. The solution is not unique.)"
   ]
  },
  {
   "cell_type": "markdown",
   "id": "b34d7c51-f2f0-46a0-95de-ea9f41023a1f",
   "metadata": {},
   "source": [
    "> **Exercise 1.2:** Implement your answer to exercise 1.1 in PennyLane. After that, run the test and verify that the state has 50% probability of being observed in state $|000\\rangle$, 50% in $|111\\rangle$ and 0% in all other states."
   ]
  },
  {
   "cell_type": "code",
   "execution_count": null,
   "id": "f97c26c0-0db4-4a46-8880-70e020857741",
   "metadata": {},
   "outputs": [],
   "source": [
    "# This is a helper function to output the basis state probabilities\n",
    "# Run this cell, but no need to change anything here\n",
    "def pretty_print_probabilities(num_qubits, probs):\n",
    "    print(\"Basis state probabilities: \")\n",
    "    format_string = f'0{num_qubits}b'\n",
    "    for state_idx in range(2**num_qubits):\n",
    "        print(f\"|{format(state_idx, format_string)}>: {probs[state_idx]:.3f}\")"
   ]
  },
  {
   "cell_type": "code",
   "execution_count": null,
   "id": "7fbb634d-bf7b-4f43-ac0a-aef1fb420f84",
   "metadata": {},
   "outputs": [],
   "source": [
    "# Sets up a device with 3 qubits\n",
    "dev = qml.device('default.qubit', wires=3, shots=None)\n",
    "\n",
    "@qml.qnode(dev)\n",
    "def GHZ_3(): \n",
    "    # Hint: add gates to the circuit with qml.Hadamard(...) and qml.CNOT(...)\n",
    "    # Your solution here\n",
    "    \n",
    "    return qml.probs(wires=range(dev.num_wires))"
   ]
  },
  {
   "cell_type": "code",
   "execution_count": null,
   "id": "a63e527f-5adf-447a-b6a4-96d230bd2a26",
   "metadata": {},
   "outputs": [],
   "source": [
    "# Run the circuit and print results\n",
    "basis_state_probabilities = GHZ_3()\n",
    "pretty_print_probabilities(dev.num_wires, basis_state_probabilities)"
   ]
  },
  {
   "cell_type": "markdown",
   "id": "830bf0b9-ce44-4524-94f4-a72c3c152777",
   "metadata": {},
   "source": [
    "> **Exercise 1.3:** Let's check whether the three qubits in the GHZ state are fully entangled. Before any measure, every qubit has 50% probability of being observed in state 0 or 1. If one of the three qubits is observed in state 1, what's the probability of the other two qubits being in state 1 as well?"
   ]
  },
  {
   "cell_type": "markdown",
   "id": "867be757-0ea0-4ee1-b8a2-2c96488784d4",
   "metadata": {},
   "source": [
    "The other two qubits will be in state 1 as well in 100% of cases. Measuring one qubit then modifies the state of the other two qubits, hence all three qubits are entangled."
   ]
  },
  {
   "cell_type": "markdown",
   "id": "b26a6e84-6367-4978-b87b-6a177a67f89b",
   "metadata": {},
   "source": [
    "> **Exercise 1.4:** Let's run the same circuit in a real IBMQ device using 100 shots. Do we observe only two outcomes as before? Are the conclusions drawn in the previous exercises still valid?"
   ]
  },
  {
   "cell_type": "code",
   "execution_count": null,
   "id": "bb7c18fe-df79-4bc6-a082-3432034ab0cf",
   "metadata": {},
   "outputs": [],
   "source": [
    "dev = qml.device('qiskit.ibmq', wires=3, backend='ibmqx2', shots=100, ibmqx_token=\"YOUR_API_KEY_HERE\")\n",
    "\n",
    "@qml.qnode(dev)\n",
    "def GHZ_3_device():\n",
    "    # Your solution here\n",
    "    \n",
    "    return qml.probs(wires=range(dev.num_wires))"
   ]
  },
  {
   "cell_type": "code",
   "execution_count": null,
   "id": "573ccb88-fc84-460e-90d3-e404a08246a6",
   "metadata": {},
   "outputs": [],
   "source": [
    "# Run the circuit and print results\n",
    "# Using the real device might take a long time\n",
    "basis_state_probabilities = GHZ_3_device()\n",
    "pretty_print_probabilities(dev.num_wires, basis_state_probabilities)"
   ]
  },
  {
   "cell_type": "markdown",
   "id": "831ac5f8-326b-417f-9f7d-ca90202c6bef",
   "metadata": {},
   "source": [
    "The system is still observed most of the times in the states 000 or 111, each of them with similar probability. However, they are not the only states observed. Therefore, observing just one qubit is not sufficient anymore to infer the state of the other two. This alteration of results is due to gate errors and quantum decoherence."
   ]
  },
  {
   "cell_type": "markdown",
   "id": "3514e6cb-4e8e-4824-ae23-69caf10edb23",
   "metadata": {},
   "source": [
    "> **Bonus 1.5:** As a point of interest, GHZ states can be generalized to $n$ qubits, \n",
    " $$\n",
    " |\\hbox{GHZ} \\rangle_n = \\frac{1}{\\sqrt{2}} \\left( |0\\rangle^{\\otimes n} + |1 \\rangle^{\\otimes n} \\right),\n",
    " $$\n",
    "> where the notation $|0\\rangle^{\\otimes n}$ means $n$ tensor product copies of $|0\\rangle$.\n",
    "> Generalize the construction of the GHZ state to arbitrary $n$."
   ]
  },
  {
   "cell_type": "code",
   "execution_count": null,
   "id": "c9f109c4-d02b-49a6-aad0-f7216a7c954c",
   "metadata": {},
   "outputs": [],
   "source": [
    "# Change n to whatever you like\n",
    "n = 4\n",
    "\n",
    "dev = qml.device('default.qubit', wires=n, shots=None)\n",
    "\n",
    "@qml.qnode(dev)\n",
    "def GHZ_n():\n",
    "    # Your solution here\n",
    "    \n",
    "    return qml.probs(wires=range(dev.num_wires))"
   ]
  },
  {
   "cell_type": "code",
   "execution_count": null,
   "id": "1ce0e5f7-d620-4ab0-a485-897038b7dd1e",
   "metadata": {},
   "outputs": [],
   "source": [
    "# Run the circuit and print results\n",
    "basis_state_probabilities = GHZ_n()\n",
    "pretty_print_probabilities(dev.num_wires, basis_state_probabilities)"
   ]
  },
  {
   "cell_type": "code",
   "execution_count": null,
   "id": "c34b88d7-61b1-41f9-9b53-a4af0a95b82b",
   "metadata": {},
   "outputs": [],
   "source": [
    "print(\"With the second method: \")\n",
    "basis_state_probabilities_2 = GHZ_n_version_2()\n",
    "pretty_print_probabilities(dev.num_wires, basis_state_probabilities_2)"
   ]
  },
  {
   "cell_type": "markdown",
   "id": "b149c03e-36a9-46d4-8e22-d8cb70122505",
   "metadata": {},
   "source": [
    "> **Bonus 1.5:** We are often interested in the resource requirements of quantum circuits, especially in the present era where operations are noisy, and coherence times of qubits are low. Common metrics of circuit quality are width (number of qubits), depth (number of sequential operations that cannot be parallelized), and the number of specific types of gates, especially 2-qubit gates. For the `GHZ_n` circuit you wrote above, what are the width, depth, and gate counts in terms of $n$?"
   ]
  }
 ],
 "metadata": {
  "kernelspec": {
   "display_name": "Python 3 (ipykernel)",
   "language": "python",
   "name": "python3"
  },
  "language_info": {
   "codemirror_mode": {
    "name": "ipython",
    "version": 3
   },
   "file_extension": ".py",
   "mimetype": "text/x-python",
   "name": "python",
   "nbconvert_exporter": "python",
   "pygments_lexer": "ipython3",
   "version": "3.8.10"
  }
 },
 "nbformat": 4,
 "nbformat_minor": 5
}
