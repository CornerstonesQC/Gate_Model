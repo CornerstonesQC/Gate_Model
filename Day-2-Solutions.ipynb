{
 "cells": [
  {
   "cell_type": "markdown",
   "id": "625730c2-e9be-4712-a057-7d9b3ee32a57",
   "metadata": {},
   "source": [
    "# Quantum Teleportation\n",
    "------\n",
    "\n",
    "Alice has a qubit in state $\n",
    "\\left|\\psi\\right>=\\alpha\\left|0\\right>+\\beta\\left|1\\right>$.\n",
    "\n",
    "She wants to send this quantum information to Bob.\n",
    "However the laws of quantum mechanics prevent making a copy of her qubit (the no-cloning theorem). Alice can transfer her state to Bob using two classical bits and an entangled pair. This is 'teleportation' because the original qubit is not physically transferred but afterwards Bob will have state $\\left|\\psi\\right>$ and Alice will not have it anymore.\n",
    "\n",
    "------\n",
    "\n",
    "### Overview\n",
    "\n",
    "One qubit of an entangled pair is given to Alice and one is given to Bob.\n",
    "\n",
    "Alice measures her two qubits in the Bell basis and sends the (classical) results to Bob.\n",
    "\n",
    "Using those classical bits, Bob will decide whether to apply particular gates to his qubit.\n",
    "\n",
    "Afterwards Bob will have the state $\\left|\\psi\\right>$.\n",
    "\n",
    "------"
   ]
  },
  {
   "cell_type": "markdown",
   "id": "2c17fff2-b0bd-401e-83a1-c59562c7f092",
   "metadata": {},
   "source": [
    "First we import `pennylane` and initialize a quantum device."
   ]
  },
  {
   "cell_type": "code",
   "execution_count": null,
   "id": "17c5549f-f7e4-4b02-8ce4-fa2784eb186e",
   "metadata": {},
   "outputs": [],
   "source": [
    "# imports\n",
    "import pennylane as qml\n",
    "from pennylane import numpy as np\n",
    "\n",
    "# first we set up device\n",
    "dev = qml.device(\"qiskit.aer\", wires=3, shots=1000)"
   ]
  },
  {
   "cell_type": "markdown",
   "id": "dfab83db-9e27-4901-bb16-a78a02555167",
   "metadata": {},
   "source": [
    "The following function will be used to create the initial state $\\left|\\psi\\right>$."
   ]
  },
  {
   "cell_type": "code",
   "execution_count": null,
   "id": "9de6b67d-8fc2-4eae-828b-423b89208a33",
   "metadata": {},
   "outputs": [],
   "source": [
    "def initialize_psi(theta,phi,wire=0):\n",
    "    qml.Rot(0,theta,phi,wires=wire)"
   ]
  },
  {
   "cell_type": "markdown",
   "id": "00a756f0-e0b2-49e4-ab22-ac9a12afc2d0",
   "metadata": {},
   "source": [
    "> ***Exercise 1.***\n",
    ">Create a Bell pair on qubits 1 and 2.\n",
    ">(i.e. the state $\\frac{1}{\\sqrt{2}}\\left|00\\right>+\\left|11\\right>$)\n",
    "> by completing the following function."
   ]
  },
  {
   "cell_type": "code",
   "execution_count": null,
   "id": "7cc7480d-7b2f-49f9-95fa-40cbd59b85c2",
   "metadata": {},
   "outputs": [],
   "source": [
    "def create_Bell_state():\n",
    "    # Your solution here\n",
    "    qml.Hadamard(wires=1)\n",
    "    qml.CNOT(wires=[1,2])"
   ]
  },
  {
   "cell_type": "markdown",
   "id": "8031f63d-fb99-4014-8bca-8e32b27008fe",
   "metadata": {},
   "source": [
    "Let's pretend qubit `1` is sent to Alice and qubit `2` is sent to Bob (on a physical quantum computer the bits cannot be sent anywhere).\n",
    "\n",
    "Therefore Alice can only manipulate qubits `0` and `1`. She will apply the following gates."
   ]
  },
  {
   "cell_type": "code",
   "execution_count": null,
   "id": "e8df125f-b6f7-4b39-aa22-01f00b533221",
   "metadata": {},
   "outputs": [],
   "source": [
    "def Alice_gates():\n",
    "    qml.CNOT(wires=[0,1])\n",
    "    qml.Hadamard(wires=0)"
   ]
  },
  {
   "cell_type": "markdown",
   "id": "1f2b5101-3b90-49f3-8133-83f47c3a0073",
   "metadata": {},
   "source": [
    "> ***Exercise 2.***\n",
    ">Show that, if Alice's qubits are measured after applying her gates, they will  in the Bell basis.\n",
    ">i.e. Show that the quantum \n",
    "circuit \n",
    "><div><img src=\"images/bell.jpg\" width=\"200\"></div> \n",
    "maps the four Bell states \n",
    ">$$\n",
    "\\begin{aligned}\n",
    "    \\left|\\Phi_+ \\right> &= \\frac{1}{\\sqrt{2}} \\left( \\left|00 \\right> + \\left|11 \\right> \\right)\\\\\n",
    "    \\left|\\Phi_- \\right> &= \\frac{1}{\\sqrt{2}} \\left( \\left|00 \\right> - \\left|11 \\right> \\right)\\\\\n",
    "    \\left|\\Psi_+ \\right> &= \\frac{1}{\\sqrt{2}} \\left( \\left|01 \\right> + \\left|10 \\right> \\right)\\\\\n",
    "    \\left|\\Psi_+ \\right> &= \\frac{1}{\\sqrt{2}} \\left( \\left|01 \\right> - \\left|10 \\right> \\right) \\,.\n",
    "\\end{aligned}\n",
    "$$\n",
    ">to the computational basis states: \n",
    "$\\left|00\\right>, \\left|01\\right>,\\left|10\\right>, \\left|11\\right>$ "
   ]
  },
  {
   "cell_type": "markdown",
   "id": "aa7bbc3b-962e-415e-8c32-2e8b6806358f",
   "metadata": {},
   "source": [
    "> $$\n",
    "\\begin{aligned}\n",
    "CNOT_{0,1}\\left|\\Phi_+ \\right> &= \\frac{1}{\\sqrt{2}} \\left( \\left|00 \\right> + \\left|11 \\right> \\right)\\\\\n",
    "&= \\frac{1}{\\sqrt{2}} \\left( \\left|00 \\right> + \\left|10 \\right> \\right)\\\\\n",
    "H_0 CNOT_{0,1}\\left|\\Phi_+ \\right> &= \\frac{1}{\\sqrt{2}} \\left( \\frac{1}{\\sqrt{2}}(\\left|00 \\right> + \\left|10 \\right> + \\frac{1}{\\sqrt{2}}(\\left|00 \\right> - \\left|10 \\right>) \\right)\\\\\n",
    "&= \\left| 00 \\right>\\\\\n",
    "\\end{aligned}$$"
   ]
  },
  {
   "cell_type": "markdown",
   "id": "ef796f78-28ba-412e-9daf-50cc454d2588",
   "metadata": {},
   "source": [
    "Teleportation can be achieved if Alice measures her qubits (`0` and `1`) and sends the results (classical bits) to Bob.\n",
    "<div><img src=\"images/bell_measure.jpg\" width=\"200\"></div> \n",
    "\n",
    "Bob will then manipulate his qubit (`2`) based on those results."
   ]
  },
  {
   "cell_type": "markdown",
   "id": "1fe3952e-34ca-484d-b42f-40b8cc472f0b",
   "metadata": {},
   "source": [
    "Depending on the measurement outcomes, Bob needs to make some adjustments to qubit `2` as shown below. Here, $Z^{M_1}$ and $X^{M_2}$ means that the Pauli gates are only applied when $M_1=1$ and $M_2=1$, respectively. These single-qubit gates are sometimes referred to as *Pauli corrections*.\n",
    "\n",
    "This circuit constitutes are final teleportation algorithm:"
   ]
  },
  {
   "cell_type": "markdown",
   "id": "450f4475-b728-46d4-b0c8-43be06b30222",
   "metadata": {},
   "source": [
    "<div>\n",
    "<img src=\"images/tele_circuit.jpg\" width=\"700\">\n",
    "</div>\n",
    "\n",
    "Alternate version of circuit diagram (via `qiskit`, with an example):\n",
    "<div>\n",
    "<img src=\"images/qiskit_teleportation.png\" width=\"700\">\n",
    "</div>"
   ]
  },
  {
   "cell_type": "markdown",
   "id": "d432bf09-117b-49f7-a0cf-bd47d7e09a1c",
   "metadata": {},
   "source": [
    "In `pennylane` and on current quantum hardware we are limited to performing all measurements at the end. So we cannot in practice manipulate qubit 2 after measuring 0 and 1.\n",
    "\n",
    "However we can still produce $\\left|\\psi\\right>$ on qubit 2\n",
    "due to the *deferred measurement principle* [1].\n",
    "This principle states that any measurement can be postponed until the end of the circuit, i.e. we can move all the measurements to the end, and we should see the same results.\n",
    "\n",
    "The measurement controlled Pauli gates can be converted to regular controlled gates.\n",
    "\n",
    "<div>\n",
    "<img src=\"images/defer_measurement.svg\" width=\"300\">\n",
    "</div>"
   ]
  },
  {
   "cell_type": "code",
   "execution_count": null,
   "id": "1ef57ea3-b74c-47d1-9837-0024b24061de",
   "metadata": {},
   "outputs": [],
   "source": [
    "# instead of measuring at this point, we apply controlled gates\n",
    "def Bob_gates():\n",
    "    qml.CNOT(wires=[1,2])\n",
    "    qml.CZ(wires=[0,2])"
   ]
  },
  {
   "cell_type": "markdown",
   "id": "1c4dfbfb-5c1e-4d9b-a7ee-a60816773e77",
   "metadata": {},
   "source": [
    "We can show that we've acquired the correct state by applying the inverse of our state initialization on qubit 2 and show that it returns to state $\\left|0\\right>$.\n",
    "\n",
    "> ***Exercise 3.***\n",
    ">Complete the following code for the teleportation protocol. (Use the previously defined functions to apply the gates, then use `qml.adjoint` to apply the inverse of the inialization (i.e. the *disentangler*).\n",
    "\n",
    "The final circuit will look something like this (it's ok if there are more measurements drawn or the barriers are not included):\n",
    "\n",
    "<div>\n",
    "<img src=\"images/qiskit_teleportation_defer.png\" width=\"700\">\n",
    "</div>"
   ]
  },
  {
   "cell_type": "code",
   "execution_count": null,
   "id": "2538138c-0027-4257-a869-fcccae6ec3e8",
   "metadata": {},
   "outputs": [],
   "source": [
    "@qml.qnode(dev)\n",
    "def Teleportation(theta, phi):\n",
    "    # Your solution here\n",
    "    initialize_psi(theta,phi,0)\n",
    "    create_Bell_state()\n",
    "    Alice_gates()\n",
    "    Bob_gates()\n",
    "    qml.adjoint(initialize_psi)(theta,phi,2)\n",
    "    return qml.probs(2)"
   ]
  },
  {
   "cell_type": "markdown",
   "id": "170ecbff-56ce-4411-aa3f-d8062a824735",
   "metadata": {},
   "source": [
    ">***Hint:*** `qml.adjoint(f)(params)` takes a gate or function `f` which applies gates and passes it the parameters `params`. Here `f` should be `initialize_psi`, but remember you need to apply the disentangler to qubit `2`."
   ]
  },
  {
   "cell_type": "code",
   "execution_count": null,
   "id": "bf62f3d3-2b2a-4b48-87ae-121d0a504e0f",
   "metadata": {},
   "outputs": [],
   "source": [
    "np.random.seed(0)\n",
    "theta = np.pi*np.random.uniform()\n",
    "phi = np.pi/2*np.random.uniform()"
   ]
  },
  {
   "cell_type": "code",
   "execution_count": null,
   "id": "0443ad55-eaff-489c-b779-d2516767ee9b",
   "metadata": {},
   "outputs": [],
   "source": [
    "theta, phi"
   ]
  },
  {
   "cell_type": "code",
   "execution_count": null,
   "id": "2771bd9a-d8aa-469e-89da-50ed5beffc0a",
   "metadata": {},
   "outputs": [],
   "source": [
    "# should always be [1, 0] no matter what |psi> is\n",
    "print(Teleportation(theta,phi))"
   ]
  },
  {
   "cell_type": "code",
   "execution_count": null,
   "id": "d72c590e-7ce6-4543-846c-f88aad825ab1",
   "metadata": {},
   "outputs": [],
   "source": [
    "dev._circuit.draw('mpl')"
   ]
  },
  {
   "cell_type": "markdown",
   "id": "35fd485d-4fa6-4740-a5a5-007aeefa0e64",
   "metadata": {},
   "source": [
    "------\n",
    "### Quantum Teleportation on the IBM Quantum Computer"
   ]
  },
  {
   "cell_type": "markdown",
   "id": "2a23b101-6dd1-43fd-a0af-a5318571fa86",
   "metadata": {},
   "source": [
    "In this section, we will run the teleportation circuit on the IBM Quantum Computer. During the pre-reading, you must have signed up for an [IBMQ account](https://quantum-computing.ibm.com/). On the [IBM Quantum Dashboard](https://quantum-computing.ibm.com/), you should be able to sign-in and access your API token here\n",
    "\n",
    "![image.png](images/qiskit_api.png)"
   ]
  },
  {
   "cell_type": "markdown",
   "id": "097225c0-c7b6-4c11-8ad9-38d9f0803194",
   "metadata": {},
   "source": [
    "Simply use the API from the IBM Quantum Dashboard in the device initialization below :"
   ]
  },
  {
   "cell_type": "code",
   "execution_count": null,
   "id": "1250224d-6fab-4787-be0c-604620f4b6ad",
   "metadata": {},
   "outputs": [],
   "source": [
    "# Setup the device object to run on real quantum device\n",
    "# Note - This command can only be run once in a single kernel - if need to re-run, restart the kernel and re-run\n",
    "dev = qml.device('qiskit.ibmq', wires=3, backend='ibmqx2', shots=2000, ibmqx_token=\"YOUR_API_KEY_HERE\")"
   ]
  },
  {
   "cell_type": "code",
   "execution_count": null,
   "id": "490a4f45-6ca5-4345-8521-fd6020395fa4",
   "metadata": {},
   "outputs": [],
   "source": [
    "@qml.qnode(dev)\n",
    "def Teleportation(theta, phi):\n",
    "    # Your solution here\n",
    "    initialize_psi(theta,phi,0)\n",
    "    create_Bell_state()\n",
    "    Alice_gates()\n",
    "    Bob_gates()\n",
    "    qml.adjoint(initialize_psi)(theta,phi,2)\n",
    "    return qml.probs(2)"
   ]
  },
  {
   "cell_type": "code",
   "execution_count": null,
   "id": "7d7ca984-b1a5-40cb-9342-cb32af2b1485",
   "metadata": {},
   "outputs": [],
   "source": [
    "np.random.seed(0)\n",
    "theta = np.pi*np.random.uniform()\n",
    "phi = np.pi/2*np.random.uniform()"
   ]
  },
  {
   "cell_type": "code",
   "execution_count": null,
   "id": "92c9bae6-ae11-4862-904f-2431393ac576",
   "metadata": {},
   "outputs": [],
   "source": [
    "theta, phi"
   ]
  },
  {
   "cell_type": "code",
   "execution_count": null,
   "id": "e5f88986-1714-49d2-a1b4-b8842fe58779",
   "metadata": {},
   "outputs": [],
   "source": [
    "# should always be [1, 0] no matter what |psi> is\n",
    "print(Teleportation(theta,phi))"
   ]
  },
  {
   "cell_type": "code",
   "execution_count": null,
   "id": "d181e8c8-7641-4c7e-bc18-094fac00d644",
   "metadata": {},
   "outputs": [],
   "source": [
    "dev._circuit.draw('mpl')"
   ]
  },
  {
   "cell_type": "markdown",
   "id": "68519c10-8b55-4262-a4f5-aeab4e38ee99",
   "metadata": {},
   "source": [
    "### More Bonus Exercises: Pauli corrections by classical post-processing\n",
    "\n",
    "As was stated earlier, in the `pennylane` framework, measurement of the circuit has to be performed as the very last step *after* all gates have been applied! This means, it is not possible to implement the Pauli corrections that depend on the measurement outcomes of qubits `0` and `1`.\n",
    "\n",
    "Instead, we can apply the Pauli corrections *classically*. We measure all three qubits and then post-process each recorded measurement outcome according to the Pauli corrections."
   ]
  },
  {
   "cell_type": "markdown",
   "id": "0a292e35-5976-4141-830d-6ccb4fda0732",
   "metadata": {},
   "source": [
    "Let's see how this works. Assume we are performing a measurement in the $z$-basis which means that we can differentiate between outcomes $\\left|0\\right>$ and $\\left|1\\right>$. The $X$ correction just before measurement swaps the roles of $\\left|0\\right>$ and $\\left|1\\right>$. Thus, instead of actually applying an $X$-gate, simply swapping the measured probabilities of getting $\\left|0\\right>$ and $\\left|1\\right>$ will do the same job! The $Z$ correction has no effect on the measurement statistics, since it simply adds a phase of $-1$ to $\\left|1\\right>$ which we can't measure anyways.\n",
    "\n",
    "> ***Bonus Exercise.*** How can we retroactively apply the $X$ and $Z$ correction when we measure in the $x$-basis, i.e. when we differentiate between outcomes $\\left|+\\right>$ and $\\left|-\\right>$?\n",
    "\n",
    "> Use a Hadamard to convert from the $\\left|\\pm\\right>$ basis back to the compuational basis."
   ]
  },
  {
   "cell_type": "markdown",
   "id": "3e4cbedf-6eae-437c-ad27-7dbe0be3c43e",
   "metadata": {},
   "source": [
    "For an arbitrary single-qubit-state parameterized as $\\left|\\psi\\right> = \\cos \\frac{\\theta}{2}\\left|0\\right> + e^{i\\varphi} \\sin\\frac{\\theta}{2} \\left|1\\right>$ the expectation values of the Pauli operators are"
   ]
  },
  {
   "cell_type": "markdown",
   "id": "28a62b9f-c53c-4418-81eb-c4c1b4e49032",
   "metadata": {},
   "source": [
    "$$\n",
    "\\begin{aligned}\n",
    "\\langle X \\rangle &= \\cos \\varphi \\sin \\theta \\\\\n",
    "\\langle Y \\rangle &= \\sin \\varphi \\sin \\theta \\\\\n",
    "\\langle Z \\rangle &= \\cos \\theta \\,,\n",
    "\\end{aligned}\n",
    "$$\n",
    "\n",
    "i.e. the expectation value of the operators $X,Y,Z$ are the projection of the Bloch vector on the $x,y,z-$axis.\n",
    "\n",
    "So, if we measure $\\langle Z \\rangle$, we can compute $\\theta$. If we measure a second Pauli operator, we also find $\\varphi$. Voilà, we have identified our quantum state!"
   ]
  },
  {
   "cell_type": "markdown",
   "id": "dc87ca18-6f37-4523-86f1-202048ebf920",
   "metadata": {},
   "source": [
    "<div>\n",
    "<img src=\"images/bloch_sphere.png\" width=\"300\">\n",
    "</div>"
   ]
  },
  {
   "cell_type": "markdown",
   "id": "cafce18d-5a68-4430-ae60-dddc3cd8a517",
   "metadata": {},
   "source": [
    "> ***Bonus Exercise.*** Write a python function ` findState(x_exp,z_exp)` that takes expectation values $\\langle X \\rangle$ and $\\langle Z \\rangle$ as inputs and returns $\\varphi$ and $\\theta$. (To keep thing simple, assume that $\\varphi \\in [0,\\pi)$ for our purposes.)"
   ]
  },
  {
   "cell_type": "code",
   "execution_count": null,
   "id": "6a98a11a-e68c-42dc-9933-a119ccb105e4",
   "metadata": {},
   "outputs": [],
   "source": [
    "def findState(x_exp,z_exp):\n",
    "    # Your solution here\n",
    "    theta = np.arccos(z_exp)\n",
    "    phi = np.arccos(x_exp/np.sin(theta))\n",
    "    \n",
    "    return phi,theta"
   ]
  },
  {
   "cell_type": "markdown",
   "id": "af73fb65-19bc-40ca-a107-4445cd443dc7",
   "metadata": {},
   "source": [
    "Below is our implementation of the teleportation circuit that combines all code snippets that you have written so far. There are two circuits. `teleportMeasureX` initializes the input qubit `0` in the state $\\left|\\psi\\right> = \\cos \\frac{\\theta}{2}\\left|0\\right> + e^{i\\varphi} \\sin\\frac{\\theta}{2} \\left|1\\right>$, implements the teleportation, and measures qubit `2` in the $x$-basis while `teleportMeasureZ` measures the last qubit in the $z$-basis."
   ]
  },
  {
   "cell_type": "code",
   "execution_count": null,
   "id": "6c0c010a-bc82-4075-bac7-9458e9602d39",
   "metadata": {
    "tags": []
   },
   "outputs": [],
   "source": [
    "@qml.qnode(dev)\n",
    "def teleportMeasureX(phi,theta):\n",
    "    # prepare input state cos(θ/2)|0> + e^(iϕ) sin(θ/2)|1>\n",
    "    qml.Rot(0,theta,phi, wires=0)\n",
    "    \n",
    "    # build the actual circuit\n",
    "    create_Bell_state()\n",
    "    Alice_gates()    # rotate to the Bell basis\n",
    "    \n",
    "    # rotate the x-basis into the z basis ( |+> --> |0> and |-> --> |1> )\n",
    "    qml.Hadamard(wires=2)\n",
    "    \n",
    "    # return the measurement statistics\n",
    "    return qml.probs(wires=[0,1,2])\n",
    "\n",
    "@qml.qnode(dev)\n",
    "def teleportMeasureZ(phi,theta):\n",
    "    # prepare input state\n",
    "    qml.Rot(0,theta,phi, wires=0)\n",
    "    \n",
    "    # build the actual circuit\n",
    "    create_Bell_state()\n",
    "    Alice_gates()\n",
    "    \n",
    "    # return the measurement statistics\n",
    "    return qml.probs(wires=[0,1,2])"
   ]
  },
  {
   "cell_type": "markdown",
   "id": "6539761b-2676-4993-8a7c-b8e9f34a0ff1",
   "metadata": {},
   "source": [
    "To make things interesting, we randomly choose the parameters of the input state $\\left|\\psi\\right> = \\cos \\frac{\\theta}{2}\\left|0\\right> + e^{i\\varphi} \\sin\\frac{\\theta}{2} \\left|1\\right>$ as $\\varphi,\\theta \\in [0,\\pi)$."
   ]
  },
  {
   "cell_type": "code",
   "execution_count": null,
   "id": "a0458cd4-3c85-4e05-9c37-d30524a424c0",
   "metadata": {},
   "outputs": [],
   "source": [
    "theta = np.random.rand() * np.pi\n",
    "phi = np.random.rand() * np.pi"
   ]
  },
  {
   "cell_type": "markdown",
   "id": "7e302f12-c609-4bac-8572-e3a003c9db8f",
   "metadata": {},
   "source": [
    "Now we perform the post-processing of the data to apply the Pauli corrections and compute the expectation values $\\langle X \\rangle$ (`x_exp`) and $\\langle Z \\rangle $ (`z_exp`). If you are pressured for time, you can simply run the code cell below and understand the steps in the code later.\n"
   ]
  },
  {
   "cell_type": "code",
   "execution_count": null,
   "id": "7301bbce-d33e-4672-b26e-f6e1d94825ba",
   "metadata": {
    "tags": []
   },
   "outputs": [],
   "source": [
    "binaries = ['000', '001', '010', '011', '100', '101', '110','111']\n",
    "\n",
    "x_probs = teleportMeasureX(phi, theta) # run the quantum circuit\n",
    "# the list x_probs will contain the measured probabilities, where the first entry corresponds\n",
    "# to |000>, the second to |001>, the third to |010>, ...\n",
    "\n",
    "x_exp = 0 # this variable will contain <X>, we initialize it with 0\n",
    "\n",
    "for i in np.arange(2**3): # loop through all possible outcomes\n",
    "    bits = binaries[i]\n",
    "    outcome = int(bits[2]) # get the state of the last qubit\n",
    "    eigenvalue = (-2*outcome + 1) # the eigenvalue is 1 if the qubit was measured to be 0. It is -1 if the qubit was measured 1\n",
    "    if bits[0]=='1':\n",
    "        eigenvalue = (-eigenvalue) # Apply the Pauli-Z correction, i.e. flip the eigenvalue if qubit 0 was measured 1\n",
    "        # The Pauli-X correction has no effect since we are measuring in the X-basis\n",
    "    x_exp += eigenvalue * x_probs[i] # compute the expectation value as <X> = \\sum_i probs_i * eigenvalue_i\n",
    "\n",
    "\n",
    "z_probs = teleportMeasureZ(phi, theta)\n",
    "z_exp = 0\n",
    "\n",
    "for i in np.arange(2**3): # loop through all possible outcomes\n",
    "    bits = binaries[i]\n",
    "    outcome = int(bits[2])\n",
    "    eigenvalue = (-2*outcome + 1)\n",
    "    if bits[1]=='1':\n",
    "        eigenvalue = (-eigenvalue) # Apply the Pauli-X correction, i.e. flip the eigenvalue if qubit 1 was measured 1\n",
    "        # The Pauli-Z correction has no effect since we are measuring in the Z-basis\n",
    "    z_exp += eigenvalue * z_probs[i]"
   ]
  },
  {
   "cell_type": "markdown",
   "id": "2baba90d-c968-41b3-ab70-e9cb72b796fc",
   "metadata": {},
   "source": [
    "> ***Bonus Exercise.*** Scrap the above code cell and program your own data processing routine from scratch."
   ]
  },
  {
   "cell_type": "markdown",
   "id": "232f562e-e6cf-488d-a9d7-7f41ba56e872",
   "metadata": {},
   "source": [
    "Finally, having computed $\\langle X\\rangle$ and $\\langle Z\\rangle$ we can use our function `findState` to compute the angles of our Bloch vector:"
   ]
  },
  {
   "cell_type": "code",
   "execution_count": null,
   "id": "1952e0b1-667b-4832-8ef3-b9132bff2f5d",
   "metadata": {},
   "outputs": [],
   "source": [
    "phi_measured, theta_measured = findState(x_exp, z_exp)\n",
    "print('Measured angles: ϕ=', phi_measured, ', θ=', theta_measured)"
   ]
  },
  {
   "cell_type": "markdown",
   "id": "db4b2cbf-d505-4f2a-ae09-78fe93871ad7",
   "metadata": {},
   "source": [
    "Let's compare this to the actual parameters of the initial state. Hopefully they agree with our measurement!"
   ]
  },
  {
   "cell_type": "code",
   "execution_count": null,
   "id": "1ec0f9f5-3de4-4af0-a033-4c6cbeeeb189",
   "metadata": {},
   "outputs": [],
   "source": [
    "print('Initial state: ϕ=', phi, ', θ=', theta)"
   ]
  },
  {
   "cell_type": "markdown",
   "id": "c53866de-fb1c-4a20-b16a-f1cf5117f8b7",
   "metadata": {},
   "source": [
    "### References\n",
    "1. M. Nielsen and I. Chuang, Quantum Computation and Quantum Information (2000)\n",
    "2. `qiskit` [textbook](https://qiskit.org/textbook) "
   ]
  },
  {
   "cell_type": "markdown",
   "id": "30d4e0b2-bf1c-45c2-b0da-0dac3f9e08c1",
   "metadata": {},
   "source": [
    "# GHZ states\n",
    "------\n",
    "[author]: # (Written by Giovanni Iannelli and Paolo Stornati, July 2021. Please email me us at <giovanni.iannelli@desy.de> or <paolo.stornati@desy.de> in case of errors.)"
   ]
  },
  {
   "cell_type": "code",
   "execution_count": 1,
   "id": "e574eeee-dee9-4abc-a588-2cc40b945147",
   "metadata": {},
   "outputs": [],
   "source": [
    "import pennylane as qml\n",
    "from pennylane import numpy as np"
   ]
  },
  {
   "cell_type": "markdown",
   "id": "4e7eba68-3062-4b77-a510-ffb819fe6b63",
   "metadata": {},
   "source": [
    "In yesterdays's homework, we learned how to construct two-qubit entangled states (_Bell states_) with PennyLane by applying a Hadamard gate followed by a CNOT. This worksheet will build upon that knowledge and extend the ideas of entanglement to three qubits.\n",
    " "
   ]
  },
  {
   "cell_type": "markdown",
   "id": "cb04a5e9-6e11-4c8f-ae45-ae7fcff3a431",
   "metadata": {},
   "source": [
    "While the canonical example of an entanglement is a 2-qubit system, this is just the tip of the iceberg. Systems with more than 2 qubits can contain varying degrees of entanglement. For example, in a 3-qubit system, it may be the case that  \n",
    "- None of the qubits are entangled and the qubits are in a product state (e.g $|000\\rangle$, $|010\\rangle$ ...)\n",
    " - a pair of two are entangled and the third is separate, e.g. $\\frac{1}{\\sqrt{2}} \\left( |00\\rangle + |11 \\rangle \\right) |0\\rangle$ \n",
    " - all three are fully entangled. \n",
    " \n",
    "The GHZ state is an example of the third case, and is in a sense the logical extension of the Bell state. A 3-qubit GHZ state is defined as\n",
    "$$\n",
    "|\\hbox{GHZ} \\rangle_3 = \\frac{1}{\\sqrt{2}} \\left( |000\\rangle + |111 \\rangle \\right) \n",
    "$$\n",
    "GHZ states are named after the researchers who first studied them: [Greenberger, Horne, and Zeilinger](https://arxiv.org/abs/0712.0921)."
   ]
  },
  {
   "cell_type": "markdown",
   "id": "de9df087-cc94-4cca-8385-c8a3d3cb1ab5",
   "metadata": {},
   "source": [
    "Let's make one!"
   ]
  },
  {
   "cell_type": "markdown",
   "id": "2b5e853e-c860-49c2-9cec-ec8f8d93d159",
   "metadata": {},
   "source": [
    "> **Exercise 1.1:** Starting from $|00\\rangle$, we built the Bell state in the following way:\n",
    "$$C_{NOT}^{0,1}H^0|00\\rangle = C_{NOT}^{0,1}\\frac{1}{\\sqrt{2}}(|0\\rangle + |1\\rangle)|0\\rangle =C_{NOT}^{0,1}\\frac{1}{\\sqrt{2}}(|00\\rangle + |10\\rangle)=\\frac{1}{\\sqrt{2}}(|00\\rangle+|11\\rangle).$$\n",
    "How is then possible to build a GHZ state starting from $|000\\rangle$? (Hint: Start with the same two gate operations used for the Bell state, i.e. start applying $C_{NOT}^{0,1}H^0$ to $|000\\rangle$. The solution is not unique.)"
   ]
  },
  {
   "cell_type": "markdown",
   "id": "44fb50c6-f1f5-448c-85c8-d7e767d75fff",
   "metadata": {},
   "source": [
    "Two possible solutions are:\n",
    "$$C_{NOT}^{1,2}C_{NOT}^{0,1}H^0|000\\rangle=C_{NOT}^{1,2}\\frac{1}{\\sqrt{2}}(|000\\rangle+|110\\rangle)=\\frac{1}{\\sqrt{2}}(|000\\rangle+|111\\rangle),$$\n",
    "$$C_{NOT}^{0,2}C_{NOT}^{0,1}H^0|000\\rangle=C_{NOT}^{0,2}\\frac{1}{\\sqrt{2}}(|000\\rangle+|110\\rangle)=\\frac{1}{\\sqrt{2}}(|000\\rangle+|111\\rangle).$$"
   ]
  },
  {
   "cell_type": "markdown",
   "id": "9bf59843-d714-483b-984b-4f3bc7bc699f",
   "metadata": {},
   "source": [
    "> **Exercise 1.2:** Implement your answer to exercise 1.1 in PennyLane. After that, run the test and verify that the state has 50% probability of being observed in state $|000\\rangle$, 50% in $|111\\rangle$ and 0% in all other states."
   ]
  },
  {
   "cell_type": "code",
   "execution_count": 2,
   "id": "190b003a-5c65-4da7-8532-57fe6f949b10",
   "metadata": {},
   "outputs": [],
   "source": [
    "# This is a helper function to output the basis state probabilities\n",
    "# Run this cell, but no need to change anything here\n",
    "def pretty_print_probabilities(num_qubits, probs):\n",
    "    print(\"Basis state probabilities: \")\n",
    "    format_string = f'0{num_qubits}b'\n",
    "    for state_idx in range(2**num_qubits):\n",
    "        print(f\"|{format(state_idx, format_string)}>: {probs[state_idx]:.3f}\")"
   ]
  },
  {
   "cell_type": "code",
   "execution_count": 3,
   "id": "a6fa2abe-0374-4f2d-87d0-f76c931956d7",
   "metadata": {},
   "outputs": [],
   "source": [
    "# Sets up a device with 3 qubits\n",
    "dev = qml.device('default.qubit', wires=3, shots=None)\n",
    "\n",
    "# Hint: add gates to the circuit with qml.Hadamard(...) and qml.CNOT(...)\n",
    "@qml.qnode(dev)\n",
    "def GHZ_3():\n",
    "    # Homework code start\n",
    "    qml.Hadamard(wires=0)\n",
    "    qml.CNOT(wires=[0, 1])\n",
    "    qml.CNOT(wires=[1, 2])\n",
    "    # Homework code end\n",
    "    return qml.probs(wires=range(dev.num_wires))"
   ]
  },
  {
   "cell_type": "code",
   "execution_count": 4,
   "id": "d0573bc3-9483-4d44-a9a9-2090bbdc6a04",
   "metadata": {},
   "outputs": [
    {
     "name": "stdout",
     "output_type": "stream",
     "text": [
      "Basis state probabilities: \n",
      "|000>: 0.500\n",
      "|001>: 0.000\n",
      "|010>: 0.000\n",
      "|011>: 0.000\n",
      "|100>: 0.000\n",
      "|101>: 0.000\n",
      "|110>: 0.000\n",
      "|111>: 0.500\n"
     ]
    }
   ],
   "source": [
    "# Run the circuit and print results\n",
    "basis_state_probabilities = GHZ_3()\n",
    "pretty_print_probabilities(dev.num_wires, basis_state_probabilities)"
   ]
  },
  {
   "cell_type": "markdown",
   "id": "3880b9e6-04d7-486a-96d8-669116c5167e",
   "metadata": {},
   "source": [
    "> **Exercise 1.3:** Let's check whether the three qubits in the GHZ state are fully entangled. Before any measure, every qubit has 50% probability of being observed in state 0 or 1. If one of the three qubits is observed in state 1, what's the probability of the other two qubits being in state 1 as well?"
   ]
  },
  {
   "cell_type": "markdown",
   "id": "3ee570b2-fa9b-43fa-ab40-e1449aef6249",
   "metadata": {},
   "source": [
    "The other two qubits will be in state 1 as well in 100% of cases. Measuring one qubit then modifies the state of the other two qubits, hence all three qubits are entangled."
   ]
  },
  {
   "cell_type": "markdown",
   "id": "d46856cf-1f0a-4f02-9694-49ba5218e88a",
   "metadata": {},
   "source": [
    "> **Exercise 1.4:** Let's run the same circuit in a real IBMQ device using 100 shots. Do we observe only two outcomes as before? Are the conclusions drawn in the previous exercises still valid?"
   ]
  },
  {
   "cell_type": "code",
   "execution_count": 7,
   "id": "db05dee2-765d-497b-93bb-2611c8785234",
   "metadata": {},
   "outputs": [],
   "source": [
    "dev = qml.device('qiskit.ibmq', wires=3, backend='ibmqx2', shots=100, ibmqx_token=\"YOUR_API_KEY_HERE\") #an alternative is ibmq_quito\n",
    "\n",
    "@qml.qnode(dev)\n",
    "def GHZ_3_device():\n",
    "    # Homework code start\n",
    "    qml.Hadamard(wires=0)\n",
    "    qml.CNOT(wires=[0, 1])\n",
    "    qml.CNOT(wires=[1, 2])\n",
    "    # Homework code end\n",
    "    return qml.probs(wires=range(dev.num_wires))"
   ]
  },
  {
   "cell_type": "code",
   "execution_count": 8,
   "id": "32d3dbb7-d8ad-49f8-8cd3-8e1044009238",
   "metadata": {},
   "outputs": [
    {
     "name": "stderr",
     "output_type": "stream",
     "text": [
      "/opt/anaconda3/envs/cornerstones/lib/python3.8/site-packages/pennylane_qiskit/qiskit_device.py:315: UserWarning: ibmqx_token is not a recognized runtime option and may be ignored by the backend.\n",
      "  self._current_job = self.backend.run(qcirc, shots=self.shots, **self.run_args)\n",
      "/opt/anaconda3/envs/cornerstones/lib/python3.8/site-packages/pennylane_qiskit/qiskit_device.py:315: UserWarning: verbose is not a recognized runtime option and may be ignored by the backend.\n",
      "  self._current_job = self.backend.run(qcirc, shots=self.shots, **self.run_args)\n"
     ]
    },
    {
     "name": "stdout",
     "output_type": "stream",
     "text": [
      "Basis state probabilities: \n",
      "|000>: 0.400\n",
      "|001>: 0.030\n",
      "|010>: 0.070\n",
      "|011>: 0.060\n",
      "|100>: 0.040\n",
      "|101>: 0.080\n",
      "|110>: 0.040\n",
      "|111>: 0.280\n"
     ]
    }
   ],
   "source": [
    "# Run the circuit and print results\n",
    "# Using the real device might take a long time\n",
    "basis_state_probabilities = GHZ_3_device()\n",
    "pretty_print_probabilities(dev.num_wires, basis_state_probabilities)"
   ]
  },
  {
   "cell_type": "markdown",
   "id": "3ecb3106-7edb-40cf-b6d8-c1c178224a78",
   "metadata": {},
   "source": [
    "The system is still observed most of the times in the states 000 or 111, each of them with similar probability. However, they are not the only states observed. Therefore, observing just one qubit is not sufficient anymore to infer the state of the other two. This alteration of results is due to gate errors and quantum decoherence."
   ]
  },
  {
   "cell_type": "markdown",
   "id": "e0dd0e85-a852-43af-99c0-69861b46b4ce",
   "metadata": {},
   "source": [
    "> **Bonus 1.5:** As a point of interest, GHZ states can be generalized to $n$ qubits, \n",
    " $$\n",
    " |\\hbox{GHZ} \\rangle_n = \\frac{1}{\\sqrt{2}} \\left( |0\\rangle^{\\otimes n} + |1 \\rangle^{\\otimes n} \\right),\n",
    " $$\n",
    "> where the notation $|0\\rangle^{\\otimes n}$ means $n$ tensor product copies of $|0\\rangle$.\n",
    "> Generalize the construction of the GHZ state to arbitrary $n$."
   ]
  },
  {
   "cell_type": "code",
   "execution_count": 9,
   "id": "4b0592e2-2469-48d5-a1ab-2ef6f96cce02",
   "metadata": {},
   "outputs": [],
   "source": [
    "# Change n to whatever you like\n",
    "n = 4\n",
    "\n",
    "dev = qml.device('default.qubit', wires=n, shots=None)\n",
    "\n",
    "@qml.qnode(dev)\n",
    "def GHZ_n():\n",
    "    #begin homework code\n",
    "    qml.Hadamard(wires=0)\n",
    "    for control_wire in range(dev.num_wires - 1):\n",
    "        qml.CNOT(wires=[0, control_wire+1])\n",
    "    #end homework code\n",
    "    return qml.probs(wires=range(dev.num_wires))\n",
    "\n",
    "# or\n",
    "\n",
    "@qml.qnode(dev)\n",
    "def GHZ_n_version_2():\n",
    "    #begin homework code\n",
    "    qml.Hadamard(wires=0)\n",
    "    for control_wire in range(dev.num_wires - 1):\n",
    "        qml.CNOT(wires=[control_wire, control_wire+1])\n",
    "    #end homework code\n",
    "    return qml.probs(wires=range(dev.num_wires))"
   ]
  },
  {
   "cell_type": "code",
   "execution_count": 10,
   "id": "698b1f98-62d7-42fc-b329-cefebba364aa",
   "metadata": {},
   "outputs": [
    {
     "name": "stdout",
     "output_type": "stream",
     "text": [
      "Basis state probabilities: \n",
      "|0000>: 0.500\n",
      "|0001>: 0.000\n",
      "|0010>: 0.000\n",
      "|0011>: 0.000\n",
      "|0100>: 0.000\n",
      "|0101>: 0.000\n",
      "|0110>: 0.000\n",
      "|0111>: 0.000\n",
      "|1000>: 0.000\n",
      "|1001>: 0.000\n",
      "|1010>: 0.000\n",
      "|1011>: 0.000\n",
      "|1100>: 0.000\n",
      "|1101>: 0.000\n",
      "|1110>: 0.000\n",
      "|1111>: 0.500\n"
     ]
    }
   ],
   "source": [
    "# Run the circuit and print results\n",
    "basis_state_probabilities = GHZ_n()\n",
    "pretty_print_probabilities(dev.num_wires, basis_state_probabilities)"
   ]
  },
  {
   "cell_type": "code",
   "execution_count": 11,
   "id": "e53cf6ac-3fef-4943-90d9-85fc77e15ad8",
   "metadata": {},
   "outputs": [
    {
     "name": "stdout",
     "output_type": "stream",
     "text": [
      "With the second method: \n",
      "Basis state probabilities: \n",
      "|0000>: 0.500\n",
      "|0001>: 0.000\n",
      "|0010>: 0.000\n",
      "|0011>: 0.000\n",
      "|0100>: 0.000\n",
      "|0101>: 0.000\n",
      "|0110>: 0.000\n",
      "|0111>: 0.000\n",
      "|1000>: 0.000\n",
      "|1001>: 0.000\n",
      "|1010>: 0.000\n",
      "|1011>: 0.000\n",
      "|1100>: 0.000\n",
      "|1101>: 0.000\n",
      "|1110>: 0.000\n",
      "|1111>: 0.500\n"
     ]
    }
   ],
   "source": [
    "print(\"With the second method: \")\n",
    "basis_state_probabilities_2 = GHZ_n_version_2()\n",
    "pretty_print_probabilities(dev.num_wires, basis_state_probabilities_2)"
   ]
  },
  {
   "cell_type": "markdown",
   "id": "c9d89d8f-5629-4666-8e7b-531483eb0410",
   "metadata": {},
   "source": [
    "> **Bonus 1.5:** We are often interested in the resource requirements of quantum circuits, especially in the present era where operations are noisy, and coherence times of qubits are low. Common metrics of circuit quality are width (number of qubits), depth (number of sequential operations that cannot be parallelized), and the number of specific types of gates, especially 2-qubit gates. For the `GHZ_n` circuit you wrote above, what are the width, depth, and gate counts in terms of $n$?"
   ]
  },
  {
   "cell_type": "markdown",
   "id": "e5540da4-2605-4a23-85d8-9526ab564af6",
   "metadata": {},
   "source": [
    "Width $n$, depth $n$, 1 Hadamard and $n-1$ CNOT gates."
   ]
  }
 ],
 "metadata": {
  "kernelspec": {
   "display_name": "Python 3",
   "language": "python",
   "name": "python3"
  },
  "language_info": {
   "codemirror_mode": {
    "name": "ipython",
    "version": 3
   },
   "file_extension": ".py",
   "mimetype": "text/x-python",
   "name": "python",
   "nbconvert_exporter": "python",
   "pygments_lexer": "ipython3",
   "version": "3.9.2"
  }
 },
 "nbformat": 4,
 "nbformat_minor": 5
}
